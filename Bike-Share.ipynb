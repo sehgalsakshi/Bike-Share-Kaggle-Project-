{
 "cells": [
  {
   "cell_type": "markdown",
   "metadata": {
    "id": "rveFMj66PfL_",
    "papermill": {
     "duration": 0.074497,
     "end_time": "2020-09-14T22:14:25.073678",
     "exception": false,
     "start_time": "2020-09-14T22:14:24.999181",
     "status": "completed"
    },
    "tags": []
   },
   "source": [
    "# <center>Bike Rental Problem</center>\n",
    "\n"
   ]
  },
  {
   "cell_type": "markdown",
   "metadata": {
    "id": "roDYy-YMPykI",
    "papermill": {
     "duration": 0.071337,
     "end_time": "2020-09-14T22:14:25.220382",
     "exception": false,
     "start_time": "2020-09-14T22:14:25.149045",
     "status": "completed"
    },
    "tags": []
   },
   "source": [
    "<b>Overview</b><br>\n",
    "We’re given with a <b>bike sharing problem</b>. <br>\n",
    "Bike sharing platform is used to <b>automate bike rentals</b> from one station to another.<br>\n",
    "Unlike the regular rental problems, our goal is not to <strike>identify the income generated</strike> but to use <b>bike sharing data as mobility data within city</b> to identify what are days and weather conditions bike riders prefer bike riding on and to predict number of bikers.<br>\n",
    "Also if we can figure out interesting patterns, we might also <b>identify important city events the bike riders are going for!</b><br>This problem is a <b>Regression Problem</b> since we've to identify count of bike riders given various conditions!"
   ]
  },
  {
   "cell_type": "markdown",
   "metadata": {
    "id": "j9V4dJEqP9Kn",
    "papermill": {
     "duration": 0.069373,
     "end_time": "2020-09-14T22:14:25.360226",
     "exception": false,
     "start_time": "2020-09-14T22:14:25.290853",
     "status": "completed"
    },
    "tags": []
   },
   "source": [
    "<b>About DataSet </b>\n",
    "<br>Both hour.csv and day.csv have the following fields, except hr which is not available in day.csv\n",
    "\n",
    "<br>- instant: record index\n",
    "<br>- dteday : date\n",
    "<br>- season : season (1:winter, 2:spring, 3:summer, 4:fall)\n",
    "<br>- yr : year (0: 2011, 1:2012)\n",
    "<br>- mnth : month ( 1 to 12)\n",
    "<br>- hr : hour (0 to 23)\n",
    "<br>- holiday : weather day is holiday or not (extracted from [Web Link])\n",
    "<br>- weekday : day of the week\n",
    "<br>- workingday : if day is neither weekend nor holiday is 1, otherwise is 0.\n",
    "<br>+ weathersit :\n",
    "<br>- 1: Clear, Few clouds, Partly cloudy, Partly cloudy\n",
    "<br>- 2: Mist + Cloudy, Mist + Broken clouds, Mist + Few clouds, Mist\n",
    "<br>- 3: Light Snow, Light Rain + Thunderstorm + Scattered clouds, Light Rain + Scattered clouds\n",
    "<br>- 4: Heavy Rain + Ice Pallets + Thunderstorm + Mist, Snow + Fog\n",
    "<br>- temp : Normalized temperature in Celsius. The values are derived via (t-t_min)/(t_max-t_min), t_min=-8, t_max=+39 (only in hourly scale)\n",
    "<br>- atemp: Normalized feeling temperature in Celsius. The values are derived via (t-t_min)/(t_max-t_min), t_min=-16, t_max=+50 (only in hourly scale)\n",
    "<br>- hum: Normalized humidity. The values are divided to 100 (max)\n",
    "<br>- windspeed: Normalized wind speed. The values are divided to 67 (max)\n",
    "<br>- casual: count of casual users\n",
    "<br>- registered: count of registered users\n",
    "<br>- cnt: count of total rental bikes including both casual and registered\n",
    "\n",
    "<br>Since hour and day files contains same data, just the hour file contains more data in detail. Hence we'll use this for our analysis"
   ]
  },
  {
   "cell_type": "markdown",
   "metadata": {
    "id": "tkw_5F_nR7CI",
    "papermill": {
     "duration": 0.08028,
     "end_time": "2020-09-14T22:14:25.511906",
     "exception": false,
     "start_time": "2020-09-14T22:14:25.431626",
     "status": "completed"
    },
    "tags": []
   },
   "source": [
    "# Setting up the Environment"
   ]
  },
  {
   "cell_type": "code",
   "execution_count": 1,
   "metadata": {
    "execution": {
     "iopub.execute_input": "2020-09-14T22:14:25.659220Z",
     "iopub.status.busy": "2020-09-14T22:14:25.658557Z",
     "iopub.status.idle": "2020-09-14T22:14:26.923559Z",
     "shell.execute_reply": "2020-09-14T22:14:26.924200Z"
    },
    "id": "1jcyoB5qR_Oa",
    "outputId": "5ba04b2f-6cca-4fbe-d38d-bc2525686079",
    "papermill": {
     "duration": 1.34135,
     "end_time": "2020-09-14T22:14:26.924383",
     "exception": false,
     "start_time": "2020-09-14T22:14:25.583033",
     "status": "completed"
    },
    "tags": []
   },
   "outputs": [
    {
     "name": "stdout",
     "output_type": "stream",
     "text": [
      "/kaggle/input/bike-sharing-demand/train.csv\n",
      "/kaggle/input/bike-sharing-demand/sampleSubmission.csv\n",
      "/kaggle/input/bike-sharing-demand/test.csv\n"
     ]
    }
   ],
   "source": [
    "#Importing libraries\n",
    "import pandas as pd\n",
    "import numpy as np\n",
    "import matplotlib.pyplot as plt \n",
    "import seaborn as sns\n",
    "from scipy.stats import chi2_contingency\n",
    "from scipy.stats import spearmanr\n",
    "%matplotlib inline\n",
    "import itertools\n",
    "import os\n",
    "import calendar\n",
    "from datetime import datetime\n",
    "from scipy import stats\n",
    "from scipy.special import inv_boxcox\n",
    "from sklearn.preprocessing import StandardScaler\n",
    "from sklearn.model_selection import train_test_split as split\n",
    "for dirname, _, filenames in os.walk('/kaggle/input'):\n",
    "    for filename in filenames:\n",
    "        print(os.path.join(dirname, filename))\n"
   ]
  },
  {
   "cell_type": "markdown",
   "metadata": {
    "id": "S_hOqcPoiJKP",
    "papermill": {
     "duration": 0.069949,
     "end_time": "2020-09-14T22:14:27.064913",
     "exception": false,
     "start_time": "2020-09-14T22:14:26.994964",
     "status": "completed"
    },
    "tags": []
   },
   "source": [
    "# Helper Functions"
   ]
  },
  {
   "cell_type": "code",
   "execution_count": 2,
   "metadata": {
    "execution": {
     "iopub.execute_input": "2020-09-14T22:14:27.225658Z",
     "iopub.status.busy": "2020-09-14T22:14:27.224889Z",
     "iopub.status.idle": "2020-09-14T22:14:27.232285Z",
     "shell.execute_reply": "2020-09-14T22:14:27.232785Z"
    },
    "id": "ys5S6azfWFSm",
    "papermill": {
     "duration": 0.083404,
     "end_time": "2020-09-14T22:14:27.232953",
     "exception": false,
     "start_time": "2020-09-14T22:14:27.149549",
     "status": "completed"
    },
    "tags": []
   },
   "outputs": [],
   "source": [
    "def get_numerical_and_categorical_col(df):\n",
    "    numerical_col = []\n",
    "    cat_col = []\n",
    "    for col in df.columns:\n",
    "        if str(df[col].dtype).startswith(('int','float')):\n",
    "            numerical_col.append(col)\n",
    "        elif str(df[col].dtype) == 'category':\n",
    "            cat_col.append(col)\n",
    "    return numerical_col, cat_col"
   ]
  },
  {
   "cell_type": "code",
   "execution_count": 3,
   "metadata": {
    "execution": {
     "iopub.execute_input": "2020-09-14T22:14:27.375925Z",
     "iopub.status.busy": "2020-09-14T22:14:27.375170Z",
     "iopub.status.idle": "2020-09-14T22:14:27.381941Z",
     "shell.execute_reply": "2020-09-14T22:14:27.382429Z"
    },
    "id": "WrAEOB3RUtiA",
    "papermill": {
     "duration": 0.079592,
     "end_time": "2020-09-14T22:14:27.382603",
     "exception": false,
     "start_time": "2020-09-14T22:14:27.303011",
     "status": "completed"
    },
    "tags": []
   },
   "outputs": [],
   "source": [
    "def change_to_categorical(data, max_cat=10):\n",
    "  df = data.copy()\n",
    "  for col in df.columns:\n",
    "        if df[col].dtype == object or str(df[col].dtype).startswith(('int','float')):\n",
    "            count = len(df[col].unique())\n",
    "            if count <= max_cat:\n",
    "                df[col] = df[col].astype('category')\n",
    "  return df"
   ]
  },
  {
   "cell_type": "code",
   "execution_count": 4,
   "metadata": {
    "execution": {
     "iopub.execute_input": "2020-09-14T22:14:27.527526Z",
     "iopub.status.busy": "2020-09-14T22:14:27.526821Z",
     "iopub.status.idle": "2020-09-14T22:14:27.534310Z",
     "shell.execute_reply": "2020-09-14T22:14:27.533532Z"
    },
    "id": "JoUx-KzOXQ1z",
    "papermill": {
     "duration": 0.081814,
     "end_time": "2020-09-14T22:14:27.534526",
     "exception": false,
     "start_time": "2020-09-14T22:14:27.452712",
     "status": "completed"
    },
    "tags": []
   },
   "outputs": [],
   "source": [
    "# Helper method for printing percentage on count plot\n",
    "def print_percent_count_plot(value_counts, ax):\n",
    "    total = sum(value_counts)\n",
    "    for idx, count in value_counts.iteritems():            \n",
    "      percent_val = (count*100)/total\n",
    "      add_to_idx = 0\n",
    "      if min(value_counts.index) > 0:\n",
    "        add_to_idx = 1\n",
    "      plt.text(idx - add_to_idx-.1,count/2,str(round(percent_val))+'%')"
   ]
  },
  {
   "cell_type": "code",
   "execution_count": 5,
   "metadata": {
    "execution": {
     "iopub.execute_input": "2020-09-14T22:14:27.686228Z",
     "iopub.status.busy": "2020-09-14T22:14:27.685554Z",
     "iopub.status.idle": "2020-09-14T22:14:27.688649Z",
     "shell.execute_reply": "2020-09-14T22:14:27.688098Z"
    },
    "id": "XYxL3ZAhYapq",
    "papermill": {
     "duration": 0.082189,
     "end_time": "2020-09-14T22:14:27.688770",
     "exception": false,
     "start_time": "2020-09-14T22:14:27.606581",
     "status": "completed"
    },
    "tags": []
   },
   "outputs": [],
   "source": [
    "def get_count_plot(x, df, ax, y=None, value_counts = None, print_percent = False):\n",
    "  if value_counts is None:\n",
    "    counts = df[x].value_counts().sort_index()\n",
    "  else:\n",
    "    counts = df[value_counts]\n",
    "  #counts.plot.bar()\n",
    "  #sns bars are just more colorful :P\n",
    "  if y is None:\n",
    "    sns.countplot(x, data=df, ax=ax)\n",
    "  else:\n",
    "    sns.barplot(x, y, data=df, ax=ax)\n",
    "  if print_percent:\n",
    "    print_percent_count_plot(counts, ax)"
   ]
  },
  {
   "cell_type": "code",
   "execution_count": 6,
   "metadata": {
    "execution": {
     "iopub.execute_input": "2020-09-14T22:14:27.841919Z",
     "iopub.status.busy": "2020-09-14T22:14:27.840981Z",
     "iopub.status.idle": "2020-09-14T22:14:27.844240Z",
     "shell.execute_reply": "2020-09-14T22:14:27.844762Z"
    },
    "id": "De28t-uEaXHy",
    "papermill": {
     "duration": 0.08343,
     "end_time": "2020-09-14T22:14:27.844917",
     "exception": false,
     "start_time": "2020-09-14T22:14:27.761487",
     "status": "completed"
    },
    "tags": []
   },
   "outputs": [],
   "source": [
    "def get_count_plot_for_categorical(df, n_cols = 2, y='cnt', list_cat=None, value_counts=None, print_percent=False):\n",
    "  if list_cat is None:\n",
    "    num_col, cat_col = get_numerical_and_categorical_col(df)\n",
    "  else:\n",
    "    cat_col = list_cat\n",
    "  f, axs, n_rows = get_fig_and_axis_for_subplots(len(cat_col), n_cols)\n",
    "  for i, col in enumerate(cat_col):\n",
    "    ax = plt.subplot(n_rows, n_cols, i+1)\n",
    "    get_count_plot(col, df, ax, y, value_counts, print_percent)"
   ]
  },
  {
   "cell_type": "code",
   "execution_count": 7,
   "metadata": {
    "execution": {
     "iopub.execute_input": "2020-09-14T22:14:27.997231Z",
     "iopub.status.busy": "2020-09-14T22:14:27.996279Z",
     "iopub.status.idle": "2020-09-14T22:14:27.999254Z",
     "shell.execute_reply": "2020-09-14T22:14:27.998686Z"
    },
    "id": "MK7ZcKf7rrzh",
    "papermill": {
     "duration": 0.083268,
     "end_time": "2020-09-14T22:14:27.999375",
     "exception": false,
     "start_time": "2020-09-14T22:14:27.916107",
     "status": "completed"
    },
    "tags": []
   },
   "outputs": [],
   "source": [
    "def get_target_dist_with_categorical(df, n_cols = 2, y='cnt', list_cat=None, plot_type = 'box'):\n",
    "  if list_cat is None:\n",
    "    num_col, cat_col = get_numerical_and_categorical_col(df)\n",
    "  else:\n",
    "    cat_col = list_cat\n",
    "  f, axs, n_rows = get_fig_and_axis_for_subplots(len(cat_col), n_cols)\n",
    "  for i, col in enumerate(cat_col):\n",
    "    ax = plt.subplot(n_rows, n_cols, i+1)\n",
    "    if plot_type == 'box':\n",
    "      sns.boxplot(x=col, data=df,y=y,orient=\"v\",ax=ax)\n",
    "    else:\n",
    "      sns.violinplot(col, data=df,y=y,orient=\"v\",ax=ax)"
   ]
  },
  {
   "cell_type": "code",
   "execution_count": 8,
   "metadata": {
    "execution": {
     "iopub.execute_input": "2020-09-14T22:14:28.160911Z",
     "iopub.status.busy": "2020-09-14T22:14:28.160121Z",
     "iopub.status.idle": "2020-09-14T22:14:28.172046Z",
     "shell.execute_reply": "2020-09-14T22:14:28.171132Z"
    },
    "id": "eyS6piXbBuWx",
    "papermill": {
     "duration": 0.101079,
     "end_time": "2020-09-14T22:14:28.172232",
     "exception": false,
     "start_time": "2020-09-14T22:14:28.071153",
     "status": "completed"
    },
    "tags": []
   },
   "outputs": [],
   "source": [
    "def get_fig_and_axis_for_subplots(total, n_cols = 2):\n",
    "  rows = total/ n_cols\n",
    "  n_rows = int(np.ceil(rows))\n",
    "  f, axs = plt.subplots(n_rows, n_cols, figsize=(n_cols * 5, n_rows * 3))\n",
    "  plt.subplots_adjust(top = 0.99, bottom=0.01, hspace=.25, wspace=0.4)\n",
    "  if rows* n_cols < n_rows * n_cols:\n",
    "    diff = n_rows - rows\n",
    "    for i in range(n_cols-int(np.ceil(diff))):\n",
    "      if n_rows == 1:\n",
    "        f.delaxes(axs[n_cols-1-i])\n",
    "      else:\n",
    "        f.delaxes(axs[n_rows-1, n_cols-1-i])     \n",
    "  return f, axs, n_rows"
   ]
  },
  {
   "cell_type": "code",
   "execution_count": 9,
   "metadata": {
    "execution": {
     "iopub.execute_input": "2020-09-14T22:14:28.352948Z",
     "iopub.status.busy": "2020-09-14T22:14:28.352236Z",
     "iopub.status.idle": "2020-09-14T22:14:28.355335Z",
     "shell.execute_reply": "2020-09-14T22:14:28.354801Z"
    },
    "id": "WhKwYhGmBWVi",
    "papermill": {
     "duration": 0.091046,
     "end_time": "2020-09-14T22:14:28.355444",
     "exception": false,
     "start_time": "2020-09-14T22:14:28.264398",
     "status": "completed"
    },
    "tags": []
   },
   "outputs": [],
   "source": [
    "def get_plot_for_numerical(df, n_cols = 2, plot_type='probability',list_col=None, hist=True, kde=True):\n",
    "  if list_col is None:\n",
    "      num_col, cat_col = get_numerical_and_categorical_col(df)\n",
    "  else:\n",
    "      num_col = list_col\n",
    "  f, axs, n_rows = get_fig_and_axis_for_subplots(len(num_col), n_cols)\n",
    "  for i, col in enumerate(num_col):\n",
    "    ax = plt.subplot(n_rows, n_cols, i+1)\n",
    "    if plot_type == 'probability':\n",
    "      sns.distplot(df[col], hist=hist, kde=hist, \n",
    "             color = 'darkblue', \n",
    "             hist_kws={'edgecolor':'black'},\n",
    "             kde_kws={'linewidth': 4})\n",
    "    elif plot_type == 'box':\n",
    "      sns.boxplot(data=df,y=col,orient=\"v\",ax=ax)\n",
    "    else:\n",
    "      sns.violinplot(data=df,y=col,orient=\"v\",ax=ax)"
   ]
  },
  {
   "cell_type": "code",
   "execution_count": 10,
   "metadata": {
    "execution": {
     "iopub.execute_input": "2020-09-14T22:14:28.505721Z",
     "iopub.status.busy": "2020-09-14T22:14:28.505044Z",
     "iopub.status.idle": "2020-09-14T22:14:28.506855Z",
     "shell.execute_reply": "2020-09-14T22:14:28.507425Z"
    },
    "id": "M_kuHUtIFxa3",
    "papermill": {
     "duration": 0.080967,
     "end_time": "2020-09-14T22:14:28.507580",
     "exception": false,
     "start_time": "2020-09-14T22:14:28.426613",
     "status": "completed"
    },
    "tags": []
   },
   "outputs": [],
   "source": [
    "# visualize correlation matrix\n",
    "def visualize_corr_matrix(data):\n",
    "    numerical_col, cat_col = get_numerical_and_categorical_col(data)\n",
    "    df = data[numerical_col]\n",
    "    corr = df.corr()# plot the heatmap\n",
    "    #generating masks for upper triangle so that values are not repeated\n",
    "    mask_ut=np.triu(np.ones(corr.shape)).astype(np.bool)\n",
    "    sns.heatmap(corr, mask=mask_ut, xticklabels=corr.columns, yticklabels=corr.columns, annot=True, cmap=sns.diverging_palette(220, 20, as_cmap=True))"
   ]
  },
  {
   "cell_type": "code",
   "execution_count": 11,
   "metadata": {
    "execution": {
     "iopub.execute_input": "2020-09-14T22:14:28.661442Z",
     "iopub.status.busy": "2020-09-14T22:14:28.660805Z",
     "iopub.status.idle": "2020-09-14T22:14:28.670677Z",
     "shell.execute_reply": "2020-09-14T22:14:28.670096Z"
    },
    "id": "hoO8UlsZL6V3",
    "papermill": {
     "duration": 0.086694,
     "end_time": "2020-09-14T22:14:28.670799",
     "exception": false,
     "start_time": "2020-09-14T22:14:28.584105",
     "status": "completed"
    },
    "tags": []
   },
   "outputs": [],
   "source": [
    "def remove_outliers_for_variable_by_quantiles(data, col, q1=.25, q2=.75):\n",
    "  df = data.copy()\n",
    "  median = df[col].median()\n",
    "  q25, q75 = df[col].quantile([q1,q2])\n",
    "  iqr = q75-q25\n",
    "  upper_wh = q75 +1.5*iqr\n",
    "  lower_wh = q25 - 1.5*iqr\n",
    "  whiskers = int(np.floor(lower_wh)), int(np.ceil(upper_wh))\n",
    "  df.drop(df[~df[col].between(whiskers[0], whiskers[1]) & (~np.isnan(df[col]))].index, inplace=True)\n",
    "  return df"
   ]
  },
  {
   "cell_type": "code",
   "execution_count": 12,
   "metadata": {
    "execution": {
     "iopub.execute_input": "2020-09-14T22:14:28.821852Z",
     "iopub.status.busy": "2020-09-14T22:14:28.821108Z",
     "iopub.status.idle": "2020-09-14T22:14:28.824289Z",
     "shell.execute_reply": "2020-09-14T22:14:28.823798Z"
    },
    "id": "CMFCMb6T1Uvn",
    "papermill": {
     "duration": 0.081952,
     "end_time": "2020-09-14T22:14:28.824489",
     "exception": false,
     "start_time": "2020-09-14T22:14:28.742537",
     "status": "completed"
    },
    "tags": []
   },
   "outputs": [],
   "source": [
    "def remove_outliers_for_variable_by_std(data, col):\n",
    "  df = data.copy()\n",
    "  df = df[np.abs(df[col]-df[col].mean())<=(3*df[col].std())] \n",
    "  return df"
   ]
  },
  {
   "cell_type": "code",
   "execution_count": 13,
   "metadata": {
    "execution": {
     "iopub.execute_input": "2020-09-14T22:14:28.978005Z",
     "iopub.status.busy": "2020-09-14T22:14:28.977017Z",
     "iopub.status.idle": "2020-09-14T22:14:28.979741Z",
     "shell.execute_reply": "2020-09-14T22:14:28.980287Z"
    },
    "id": "GwgFLGJimQ72",
    "papermill": {
     "duration": 0.083614,
     "end_time": "2020-09-14T22:14:28.980424",
     "exception": false,
     "start_time": "2020-09-14T22:14:28.896810",
     "status": "completed"
    },
    "tags": []
   },
   "outputs": [],
   "source": [
    "#loop for chi square values\n",
    "def calculate_chi_square_values(df, alpha=.05):\n",
    "    chi2_dict = {}\n",
    "    numerical_col, cat_col  = get_numerical_and_categorical_col(df)\n",
    "    for i in cat_col:\n",
    "        for j in cat_col:\n",
    "            if i!=j and (j+' '+i) not in chi2_dict.keys():\n",
    "                chi2, p, dof, ex = chi2_contingency(pd.crosstab(df[i], df[j]))\n",
    "                chi2_dict[i+' '+j] = 'Independent? '+ str(p>alpha)\n",
    "    return chi2_dict"
   ]
  },
  {
   "cell_type": "code",
   "execution_count": 14,
   "metadata": {
    "execution": {
     "iopub.execute_input": "2020-09-14T22:14:29.139564Z",
     "iopub.status.busy": "2020-09-14T22:14:29.138824Z",
     "iopub.status.idle": "2020-09-14T22:14:29.149872Z",
     "shell.execute_reply": "2020-09-14T22:14:29.150502Z"
    },
    "papermill": {
     "duration": 0.09184,
     "end_time": "2020-09-14T22:14:29.150672",
     "exception": false,
     "start_time": "2020-09-14T22:14:29.058832",
     "status": "completed"
    },
    "tags": []
   },
   "outputs": [],
   "source": [
    "def rmsle(y, y_,convertExp=True):\n",
    "    \n",
    "    if convertExp:\n",
    "        y = inv_boxcox(y, fitted_lambda),\n",
    "        y_ = inv_boxcox(y_, fitted_lambda)\n",
    "    log1 = np.nan_to_num(np.array([np.log(v + 1) for v in y]))\n",
    "    log2 = np.nan_to_num(np.array([np.log(v + 1) for v in y_]))\n",
    "    calc = (log1 - log2) ** 2\n",
    "    return np.sqrt(np.mean(calc))"
   ]
  },
  {
   "cell_type": "code",
   "execution_count": 15,
   "metadata": {
    "execution": {
     "iopub.execute_input": "2020-09-14T22:14:29.300446Z",
     "iopub.status.busy": "2020-09-14T22:14:29.299810Z",
     "iopub.status.idle": "2020-09-14T22:14:29.312684Z",
     "shell.execute_reply": "2020-09-14T22:14:29.313244Z"
    },
    "papermill": {
     "duration": 0.088693,
     "end_time": "2020-09-14T22:14:29.313406",
     "exception": false,
     "start_time": "2020-09-14T22:14:29.224713",
     "status": "completed"
    },
    "tags": []
   },
   "outputs": [],
   "source": [
    "def plot_prediction(test, test_pred, train, train_pred, convert_to_original_form = False):\n",
    "    if convert_to_original_form:\n",
    "        test = inv_boxcox(test, fitted_lambda),\n",
    "        test_pred = inv_boxcox(test_pred, fitted_lambda)\n",
    "        train = inv_boxcox(train, fitted_lambda),\n",
    "        train_pred = inv_boxcox(train_pred, fitted_lambda)\n",
    "    f, ax = plt.subplots(1,2, figsize=(10, 5))\n",
    "    ax1 = plt.subplot(1,2,1)\n",
    "    sns.distplot(test, hist=True, kde=True, \n",
    "             color = 'darkblue', \n",
    "             hist_kws={'edgecolor':'black'},\n",
    "             kde_kws={'linewidth': 4}, ax = ax1)\n",
    "    sns.distplot(test_pred, hist=True, kde=True, \n",
    "             color = 'red', \n",
    "             hist_kws={'edgecolor':'red'},\n",
    "             kde_kws={'linewidth': 4}, ax = ax1)\n",
    "    ax1.set_title(\"Actual vs Predicted (Test)\")\n",
    "    \n",
    "    ax2 = plt.subplot(1,2,2)\n",
    "    sns.distplot(train, hist=True, kde=True, \n",
    "             color = 'darkblue', \n",
    "             hist_kws={'edgecolor':'black'},\n",
    "             kde_kws={'linewidth': 4}, ax = ax2)\n",
    "    sns.distplot(train_pred, hist=True, kde=True, \n",
    "             color = 'red', \n",
    "             hist_kws={'edgecolor':'red'},\n",
    "             kde_kws={'linewidth': 4}, ax = ax2)\n",
    "    ax2.set_title(\"Actual vs Predicted (Train)\")"
   ]
  },
  {
   "cell_type": "markdown",
   "metadata": {
    "id": "ecX-r3RdQkdI",
    "papermill": {
     "duration": 0.071453,
     "end_time": "2020-09-14T22:14:29.457149",
     "exception": false,
     "start_time": "2020-09-14T22:14:29.385696",
     "status": "completed"
    },
    "tags": []
   },
   "source": [
    "# Basic Info About Data"
   ]
  },
  {
   "cell_type": "code",
   "execution_count": 16,
   "metadata": {
    "execution": {
     "iopub.execute_input": "2020-09-14T22:14:29.631979Z",
     "iopub.status.busy": "2020-09-14T22:14:29.631013Z",
     "iopub.status.idle": "2020-09-14T22:14:29.637396Z",
     "shell.execute_reply": "2020-09-14T22:14:29.638288Z"
    },
    "papermill": {
     "duration": 0.098652,
     "end_time": "2020-09-14T22:14:29.638498",
     "exception": false,
     "start_time": "2020-09-14T22:14:29.539846",
     "status": "completed"
    },
    "tags": []
   },
   "outputs": [
    {
     "name": "stdout",
     "output_type": "stream",
     "text": [
      "/kaggle/input/bike-sharing-demand/train.csv\n",
      "/kaggle/input/bike-sharing-demand/sampleSubmission.csv\n",
      "/kaggle/input/bike-sharing-demand/test.csv\n"
     ]
    }
   ],
   "source": [
    "for dirname, _, filenames in os.walk('/kaggle/input'):\n",
    "    for filename in filenames:\n",
    "        print(os.path.join(dirname, filename))"
   ]
  },
  {
   "cell_type": "code",
   "execution_count": 17,
   "metadata": {
    "execution": {
     "iopub.execute_input": "2020-09-14T22:14:29.798694Z",
     "iopub.status.busy": "2020-09-14T22:14:29.797979Z",
     "iopub.status.idle": "2020-09-14T22:14:29.880184Z",
     "shell.execute_reply": "2020-09-14T22:14:29.879394Z"
    },
    "id": "Un-hPfCaRBwv",
    "papermill": {
     "duration": 0.16222,
     "end_time": "2020-09-14T22:14:29.880313",
     "exception": false,
     "start_time": "2020-09-14T22:14:29.718093",
     "status": "completed"
    },
    "tags": []
   },
   "outputs": [],
   "source": [
    "df_hour = pd.read_csv(\"/kaggle/input/bike-sharing-demand/train.csv\")\n",
    "df_test = pd.read_csv(\"/kaggle/input/bike-sharing-demand/test.csv\")"
   ]
  },
  {
   "cell_type": "code",
   "execution_count": 18,
   "metadata": {
    "execution": {
     "iopub.execute_input": "2020-09-14T22:14:30.045694Z",
     "iopub.status.busy": "2020-09-14T22:14:30.044943Z",
     "iopub.status.idle": "2020-09-14T22:14:30.057093Z",
     "shell.execute_reply": "2020-09-14T22:14:30.056408Z"
    },
    "id": "KVF-mojvTEG_",
    "outputId": "e5394a2b-c829-4ed5-9549-8df295720214",
    "papermill": {
     "duration": 0.102834,
     "end_time": "2020-09-14T22:14:30.057207",
     "exception": false,
     "start_time": "2020-09-14T22:14:29.954373",
     "status": "completed"
    },
    "tags": []
   },
   "outputs": [
    {
     "data": {
      "text/html": [
       "<div>\n",
       "<style scoped>\n",
       "    .dataframe tbody tr th:only-of-type {\n",
       "        vertical-align: middle;\n",
       "    }\n",
       "\n",
       "    .dataframe tbody tr th {\n",
       "        vertical-align: top;\n",
       "    }\n",
       "\n",
       "    .dataframe thead th {\n",
       "        text-align: right;\n",
       "    }\n",
       "</style>\n",
       "<table border=\"1\" class=\"dataframe\">\n",
       "  <thead>\n",
       "    <tr style=\"text-align: right;\">\n",
       "      <th></th>\n",
       "      <th>datetime</th>\n",
       "      <th>season</th>\n",
       "      <th>holiday</th>\n",
       "      <th>workingday</th>\n",
       "      <th>weather</th>\n",
       "      <th>temp</th>\n",
       "      <th>atemp</th>\n",
       "      <th>humidity</th>\n",
       "      <th>windspeed</th>\n",
       "      <th>casual</th>\n",
       "      <th>registered</th>\n",
       "      <th>count</th>\n",
       "    </tr>\n",
       "  </thead>\n",
       "  <tbody>\n",
       "    <tr>\n",
       "      <th>0</th>\n",
       "      <td>2011-01-01 00:00:00</td>\n",
       "      <td>1</td>\n",
       "      <td>0</td>\n",
       "      <td>0</td>\n",
       "      <td>1</td>\n",
       "      <td>9.84</td>\n",
       "      <td>14.395</td>\n",
       "      <td>81</td>\n",
       "      <td>0.0</td>\n",
       "      <td>3</td>\n",
       "      <td>13</td>\n",
       "      <td>16</td>\n",
       "    </tr>\n",
       "    <tr>\n",
       "      <th>1</th>\n",
       "      <td>2011-01-01 01:00:00</td>\n",
       "      <td>1</td>\n",
       "      <td>0</td>\n",
       "      <td>0</td>\n",
       "      <td>1</td>\n",
       "      <td>9.02</td>\n",
       "      <td>13.635</td>\n",
       "      <td>80</td>\n",
       "      <td>0.0</td>\n",
       "      <td>8</td>\n",
       "      <td>32</td>\n",
       "      <td>40</td>\n",
       "    </tr>\n",
       "    <tr>\n",
       "      <th>2</th>\n",
       "      <td>2011-01-01 02:00:00</td>\n",
       "      <td>1</td>\n",
       "      <td>0</td>\n",
       "      <td>0</td>\n",
       "      <td>1</td>\n",
       "      <td>9.02</td>\n",
       "      <td>13.635</td>\n",
       "      <td>80</td>\n",
       "      <td>0.0</td>\n",
       "      <td>5</td>\n",
       "      <td>27</td>\n",
       "      <td>32</td>\n",
       "    </tr>\n",
       "    <tr>\n",
       "      <th>3</th>\n",
       "      <td>2011-01-01 03:00:00</td>\n",
       "      <td>1</td>\n",
       "      <td>0</td>\n",
       "      <td>0</td>\n",
       "      <td>1</td>\n",
       "      <td>9.84</td>\n",
       "      <td>14.395</td>\n",
       "      <td>75</td>\n",
       "      <td>0.0</td>\n",
       "      <td>3</td>\n",
       "      <td>10</td>\n",
       "      <td>13</td>\n",
       "    </tr>\n",
       "    <tr>\n",
       "      <th>4</th>\n",
       "      <td>2011-01-01 04:00:00</td>\n",
       "      <td>1</td>\n",
       "      <td>0</td>\n",
       "      <td>0</td>\n",
       "      <td>1</td>\n",
       "      <td>9.84</td>\n",
       "      <td>14.395</td>\n",
       "      <td>75</td>\n",
       "      <td>0.0</td>\n",
       "      <td>0</td>\n",
       "      <td>1</td>\n",
       "      <td>1</td>\n",
       "    </tr>\n",
       "  </tbody>\n",
       "</table>\n",
       "</div>"
      ],
      "text/plain": [
       "              datetime  season  holiday  workingday  weather  temp   atemp  \\\n",
       "0  2011-01-01 00:00:00       1        0           0        1  9.84  14.395   \n",
       "1  2011-01-01 01:00:00       1        0           0        1  9.02  13.635   \n",
       "2  2011-01-01 02:00:00       1        0           0        1  9.02  13.635   \n",
       "3  2011-01-01 03:00:00       1        0           0        1  9.84  14.395   \n",
       "4  2011-01-01 04:00:00       1        0           0        1  9.84  14.395   \n",
       "\n",
       "   humidity  windspeed  casual  registered  count  \n",
       "0        81        0.0       3          13     16  \n",
       "1        80        0.0       8          32     40  \n",
       "2        80        0.0       5          27     32  \n",
       "3        75        0.0       3          10     13  \n",
       "4        75        0.0       0           1      1  "
      ]
     },
     "execution_count": 18,
     "metadata": {},
     "output_type": "execute_result"
    }
   ],
   "source": [
    "df_hour.head()"
   ]
  },
  {
   "cell_type": "markdown",
   "metadata": {
    "papermill": {
     "duration": 0.075891,
     "end_time": "2020-09-14T22:14:30.209552",
     "exception": false,
     "start_time": "2020-09-14T22:14:30.133661",
     "status": "completed"
    },
    "tags": []
   },
   "source": [
    "# Feature Engineering"
   ]
  },
  {
   "cell_type": "code",
   "execution_count": 19,
   "metadata": {
    "execution": {
     "iopub.execute_input": "2020-09-14T22:14:30.427966Z",
     "iopub.status.busy": "2020-09-14T22:14:30.385828Z",
     "iopub.status.idle": "2020-09-14T22:14:30.835392Z",
     "shell.execute_reply": "2020-09-14T22:14:30.834679Z"
    },
    "papermill": {
     "duration": 0.55074,
     "end_time": "2020-09-14T22:14:30.835575",
     "exception": false,
     "start_time": "2020-09-14T22:14:30.284835",
     "status": "completed"
    },
    "tags": []
   },
   "outputs": [],
   "source": [
    "df_hour[\"dteday\"] = df_hour.datetime.apply(lambda x : x.split()[0])\n",
    "df_hour[\"yr\"] = df_hour.datetime.apply(lambda x : x.split()[0][:4])\n",
    "df_hour['yr'] = df_hour.yr.map({'2011': 0, '2012':1})\n",
    "df_hour[\"hr\"] = df_hour.datetime.apply(lambda x : x.split()[1].split(\":\")[0])\n",
    "df_hour[\"weekday\"] = df_hour.dteday.apply(lambda dateString : calendar.day_name[datetime.strptime(dateString,\"%Y-%m-%d\").weekday()])\n",
    "df_hour.weekday = df_hour.weekday.map({'Saturday':6, 'Sunday':0, 'Monday':1, 'Tuesday':2, 'Wednesday':3, 'Thursday':4, 'Friday':5})\n",
    "df_hour[\"mnth\"] = df_hour.dteday.apply(lambda dateString : calendar.month_name[datetime.strptime(dateString,\"%Y-%m-%d\").month])\n",
    "df_hour.mnth = df_hour.mnth.map({'January':0, 'February':1, 'March':2, 'April':3, 'May':4, 'June':5, 'July':6,\n",
    "       'August':7, 'September':8, 'October':9, 'November':10, 'December':11})\n",
    "df_hour[\"weathersit\"] = df_hour.weather\n",
    "df_hour['dteday'] = pd.to_datetime(df_hour['dteday'])\n",
    "del df_hour['weather']\n",
    "del df_hour['datetime']"
   ]
  },
  {
   "cell_type": "code",
   "execution_count": 20,
   "metadata": {
    "execution": {
     "iopub.execute_input": "2020-09-14T22:14:31.031884Z",
     "iopub.status.busy": "2020-09-14T22:14:31.021211Z",
     "iopub.status.idle": "2020-09-14T22:14:31.271704Z",
     "shell.execute_reply": "2020-09-14T22:14:31.271128Z"
    },
    "papermill": {
     "duration": 0.362588,
     "end_time": "2020-09-14T22:14:31.271840",
     "exception": false,
     "start_time": "2020-09-14T22:14:30.909252",
     "status": "completed"
    },
    "tags": []
   },
   "outputs": [],
   "source": [
    "#performing same on test\n",
    "#performing same on test\n",
    "df_test[\"dteday\"] = df_test.datetime.apply(lambda x : x.split()[0])\n",
    "df_test[\"yr\"] = df_test.datetime.apply(lambda x : x.split()[0][:4])\n",
    "df_test['yr'] = df_test.yr.map({'2011': 0, '2012':1})\n",
    "df_test[\"hr\"] = df_test.datetime.apply(lambda x : x.split()[1].split(\":\")[0])\n",
    "df_test[\"weekday\"] = df_test.dteday.apply(lambda dateString : calendar.day_name[datetime.strptime(dateString,\"%Y-%m-%d\").weekday()])\n",
    "df_test.weekday = df_test.weekday.map({'Saturday':6, 'Sunday':0, 'Monday':1, 'Tuesday':2, 'Wednesday':3, 'Thursday':4, 'Friday':5})\n",
    "df_test[\"mnth\"] = df_test.dteday.apply(lambda dateString : calendar.month_name[datetime.strptime(dateString,\"%Y-%m-%d\").month])\n",
    "df_test.mnth = df_test.mnth.map({'January':0, 'February':1, 'March':2, 'April':3, 'May':4, 'June':5, 'July':6,\n",
    "       'August':7, 'September':8, 'October':9, 'November':10, 'December':11})\n",
    "df_test[\"weathersit\"] = df_test.weather\n",
    "df_test['dteday'] = pd.to_datetime(df_test['dteday'])\n",
    "del df_test['weather']"
   ]
  },
  {
   "cell_type": "code",
   "execution_count": 21,
   "metadata": {
    "execution": {
     "iopub.execute_input": "2020-09-14T22:14:31.426189Z",
     "iopub.status.busy": "2020-09-14T22:14:31.425129Z",
     "iopub.status.idle": "2020-09-14T22:14:31.430902Z",
     "shell.execute_reply": "2020-09-14T22:14:31.430220Z"
    },
    "id": "Rs5CFj6FTi84",
    "outputId": "6af82e86-3858-4545-ad62-f06944f3b5eb",
    "papermill": {
     "duration": 0.085483,
     "end_time": "2020-09-14T22:14:31.431022",
     "exception": false,
     "start_time": "2020-09-14T22:14:31.345539",
     "status": "completed"
    },
    "tags": []
   },
   "outputs": [
    {
     "data": {
      "text/plain": [
       "(10886, 16)"
      ]
     },
     "execution_count": 21,
     "metadata": {},
     "output_type": "execute_result"
    }
   ],
   "source": [
    "df_hour['cnt'] = df_hour['count']\n",
    "del df_hour['count']\n",
    "df_hour.shape"
   ]
  },
  {
   "cell_type": "code",
   "execution_count": 22,
   "metadata": {
    "execution": {
     "iopub.execute_input": "2020-09-14T22:14:31.587005Z",
     "iopub.status.busy": "2020-09-14T22:14:31.585938Z",
     "iopub.status.idle": "2020-09-14T22:14:31.607686Z",
     "shell.execute_reply": "2020-09-14T22:14:31.608524Z"
    },
    "id": "A2KmVB1GTJcJ",
    "outputId": "6c29c4c2-f923-4194-bead-00e97222dff9",
    "papermill": {
     "duration": 0.103724,
     "end_time": "2020-09-14T22:14:31.608739",
     "exception": false,
     "start_time": "2020-09-14T22:14:31.505015",
     "status": "completed"
    },
    "tags": []
   },
   "outputs": [
    {
     "name": "stdout",
     "output_type": "stream",
     "text": [
      "<class 'pandas.core.frame.DataFrame'>\n",
      "RangeIndex: 10886 entries, 0 to 10885\n",
      "Data columns (total 16 columns):\n",
      " #   Column      Non-Null Count  Dtype         \n",
      "---  ------      --------------  -----         \n",
      " 0   season      10886 non-null  int64         \n",
      " 1   holiday     10886 non-null  int64         \n",
      " 2   workingday  10886 non-null  int64         \n",
      " 3   temp        10886 non-null  float64       \n",
      " 4   atemp       10886 non-null  float64       \n",
      " 5   humidity    10886 non-null  int64         \n",
      " 6   windspeed   10886 non-null  float64       \n",
      " 7   casual      10886 non-null  int64         \n",
      " 8   registered  10886 non-null  int64         \n",
      " 9   dteday      10886 non-null  datetime64[ns]\n",
      " 10  yr          10886 non-null  int64         \n",
      " 11  hr          10886 non-null  object        \n",
      " 12  weekday     10886 non-null  int64         \n",
      " 13  mnth        10886 non-null  int64         \n",
      " 14  weathersit  10886 non-null  int64         \n",
      " 15  cnt         10886 non-null  int64         \n",
      "dtypes: datetime64[ns](1), float64(3), int64(11), object(1)\n",
      "memory usage: 1.3+ MB\n"
     ]
    }
   ],
   "source": [
    "df_hour.info()"
   ]
  },
  {
   "cell_type": "markdown",
   "metadata": {
    "id": "3eoRiP-NTRhM",
    "papermill": {
     "duration": 0.076269,
     "end_time": "2020-09-14T22:14:31.761086",
     "exception": false,
     "start_time": "2020-09-14T22:14:31.684817",
     "status": "completed"
    },
    "tags": []
   },
   "source": [
    "No null values and all categorical values have already been encoded"
   ]
  },
  {
   "cell_type": "code",
   "execution_count": 23,
   "metadata": {
    "execution": {
     "iopub.execute_input": "2020-09-14T22:14:31.918761Z",
     "iopub.status.busy": "2020-09-14T22:14:31.918044Z",
     "iopub.status.idle": "2020-09-14T22:14:31.924574Z",
     "shell.execute_reply": "2020-09-14T22:14:31.923925Z"
    },
    "id": "hvW0vSZ0TvAw",
    "outputId": "d55cef51-727a-4db3-e19a-15d78862efcf",
    "papermill": {
     "duration": 0.087058,
     "end_time": "2020-09-14T22:14:31.924697",
     "exception": false,
     "start_time": "2020-09-14T22:14:31.837639",
     "status": "completed"
    },
    "tags": []
   },
   "outputs": [
    {
     "data": {
      "text/plain": [
       "Index(['season', 'holiday', 'workingday', 'temp', 'atemp', 'humidity',\n",
       "       'windspeed', 'casual', 'registered', 'dteday', 'yr', 'hr', 'weekday',\n",
       "       'mnth', 'weathersit', 'cnt'],\n",
       "      dtype='object')"
      ]
     },
     "execution_count": 23,
     "metadata": {},
     "output_type": "execute_result"
    }
   ],
   "source": [
    "df_hour.columns"
   ]
  },
  {
   "cell_type": "code",
   "execution_count": 24,
   "metadata": {
    "execution": {
     "iopub.execute_input": "2020-09-14T22:14:32.080972Z",
     "iopub.status.busy": "2020-09-14T22:14:32.079985Z",
     "iopub.status.idle": "2020-09-14T22:14:32.082686Z",
     "shell.execute_reply": "2020-09-14T22:14:32.083184Z"
    },
    "id": "n33lmO_XUKCy",
    "papermill": {
     "duration": 0.083609,
     "end_time": "2020-09-14T22:14:32.083323",
     "exception": false,
     "start_time": "2020-09-14T22:14:31.999714",
     "status": "completed"
    },
    "tags": []
   },
   "outputs": [],
   "source": [
    "#Creating a copy of df to preserve original df\n",
    "df = df_hour.copy()"
   ]
  },
  {
   "cell_type": "code",
   "execution_count": 25,
   "metadata": {
    "execution": {
     "iopub.execute_input": "2020-09-14T22:14:32.287550Z",
     "iopub.status.busy": "2020-09-14T22:14:32.286521Z",
     "iopub.status.idle": "2020-09-14T22:14:32.302839Z",
     "shell.execute_reply": "2020-09-14T22:14:32.301755Z"
    },
    "id": "lvweb2NVPowR",
    "outputId": "cc946b28-a103-44df-e1df-530af5afbfa0",
    "papermill": {
     "duration": 0.144296,
     "end_time": "2020-09-14T22:14:32.303019",
     "exception": false,
     "start_time": "2020-09-14T22:14:32.158723",
     "status": "completed"
    },
    "tags": []
   },
   "outputs": [
    {
     "name": "stdout",
     "output_type": "stream",
     "text": [
      "Count of unique values for  season :  4\n",
      "Count of unique values for  holiday :  2\n",
      "Count of unique values for  workingday :  2\n",
      "Count of unique values for  temp :  49\n",
      "Count of unique values for  atemp :  60\n",
      "Count of unique values for  humidity :  89\n",
      "Count of unique values for  windspeed :  28\n",
      "Count of unique values for  casual :  309\n",
      "Count of unique values for  registered :  731\n",
      "Count of unique values for  dteday :  456\n",
      "Count of unique values for  yr :  2\n",
      "Count of unique values for  hr :  24\n",
      "Count of unique values for  weekday :  7\n",
      "Count of unique values for  mnth :  12\n",
      "Count of unique values for  weathersit :  4\n",
      "Count of unique values for  cnt :  822\n"
     ]
    }
   ],
   "source": [
    "#Analysing which of these are categorical variables\n",
    "for col in df.columns:\n",
    "  print('Count of unique values for ', col, ': ', len(df[col].unique()))"
   ]
  },
  {
   "cell_type": "code",
   "execution_count": 26,
   "metadata": {
    "execution": {
     "iopub.execute_input": "2020-09-14T22:14:32.460435Z",
     "iopub.status.busy": "2020-09-14T22:14:32.459733Z",
     "iopub.status.idle": "2020-09-14T22:14:32.476980Z",
     "shell.execute_reply": "2020-09-14T22:14:32.476405Z"
    },
    "id": "TuI25VikV3Xy",
    "papermill": {
     "duration": 0.097906,
     "end_time": "2020-09-14T22:14:32.477089",
     "exception": false,
     "start_time": "2020-09-14T22:14:32.379183",
     "status": "completed"
    },
    "tags": []
   },
   "outputs": [],
   "source": [
    "'''We know maximum categories for any categorical col is 24 (for month)\n",
    "Hence we can use this to def function to convert variable to categorical type'''\n",
    "df = change_to_categorical(df, max_cat=24)"
   ]
  },
  {
   "cell_type": "code",
   "execution_count": 27,
   "metadata": {
    "execution": {
     "iopub.execute_input": "2020-09-14T22:14:32.637889Z",
     "iopub.status.busy": "2020-09-14T22:14:32.637147Z",
     "iopub.status.idle": "2020-09-14T22:14:32.642439Z",
     "shell.execute_reply": "2020-09-14T22:14:32.641909Z"
    },
    "id": "MMSc7REHV_vw",
    "outputId": "278b50b0-a40c-42d2-9593-6f8c51e65699",
    "papermill": {
     "duration": 0.089667,
     "end_time": "2020-09-14T22:14:32.642575",
     "exception": false,
     "start_time": "2020-09-14T22:14:32.552908",
     "status": "completed"
    },
    "tags": []
   },
   "outputs": [
    {
     "data": {
      "text/plain": [
       "season              category\n",
       "holiday             category\n",
       "workingday          category\n",
       "temp                 float64\n",
       "atemp                float64\n",
       "humidity               int64\n",
       "windspeed            float64\n",
       "casual                 int64\n",
       "registered             int64\n",
       "dteday        datetime64[ns]\n",
       "yr                  category\n",
       "hr                  category\n",
       "weekday             category\n",
       "mnth                category\n",
       "weathersit          category\n",
       "cnt                    int64\n",
       "dtype: object"
      ]
     },
     "execution_count": 27,
     "metadata": {},
     "output_type": "execute_result"
    }
   ],
   "source": [
    "df.dtypes"
   ]
  },
  {
   "cell_type": "code",
   "execution_count": 28,
   "metadata": {
    "execution": {
     "iopub.execute_input": "2020-09-14T22:14:32.802945Z",
     "iopub.status.busy": "2020-09-14T22:14:32.802172Z",
     "iopub.status.idle": "2020-09-14T22:14:32.806148Z",
     "shell.execute_reply": "2020-09-14T22:14:32.805445Z"
    },
    "id": "j5y9TMadWbfz",
    "outputId": "243fc415-b6d0-4c90-aeaa-328ff72eba37",
    "papermill": {
     "duration": 0.087382,
     "end_time": "2020-09-14T22:14:32.806259",
     "exception": false,
     "start_time": "2020-09-14T22:14:32.718877",
     "status": "completed"
    },
    "tags": []
   },
   "outputs": [
    {
     "data": {
      "text/plain": [
       "(['temp', 'atemp', 'humidity', 'windspeed', 'casual', 'registered', 'cnt'],\n",
       " ['season',\n",
       "  'holiday',\n",
       "  'workingday',\n",
       "  'yr',\n",
       "  'hr',\n",
       "  'weekday',\n",
       "  'mnth',\n",
       "  'weathersit'])"
      ]
     },
     "execution_count": 28,
     "metadata": {},
     "output_type": "execute_result"
    }
   ],
   "source": [
    "get_numerical_and_categorical_col(df)"
   ]
  },
  {
   "cell_type": "markdown",
   "metadata": {
    "id": "PJ2_eEO-XWRQ",
    "papermill": {
     "duration": 0.078097,
     "end_time": "2020-09-14T22:14:32.962122",
     "exception": false,
     "start_time": "2020-09-14T22:14:32.884025",
     "status": "completed"
    },
    "tags": []
   },
   "source": [
    "Analysing type of data"
   ]
  },
  {
   "cell_type": "markdown",
   "metadata": {
    "id": "-uI7xtVzhfiJ",
    "papermill": {
     "duration": 0.076945,
     "end_time": "2020-09-14T22:14:33.116569",
     "exception": false,
     "start_time": "2020-09-14T22:14:33.039624",
     "status": "completed"
    },
    "tags": []
   },
   "source": [
    "Checking for count type of variables in dataframe"
   ]
  },
  {
   "cell_type": "code",
   "execution_count": 29,
   "metadata": {
    "execution": {
     "iopub.execute_input": "2020-09-14T22:14:33.281211Z",
     "iopub.status.busy": "2020-09-14T22:14:33.280238Z",
     "iopub.status.idle": "2020-09-14T22:14:33.487366Z",
     "shell.execute_reply": "2020-09-14T22:14:33.488044Z"
    },
    "id": "A3Qex4hBZgVt",
    "outputId": "f32e34c7-980a-4759-f135-c3a28b74226a",
    "papermill": {
     "duration": 0.294859,
     "end_time": "2020-09-14T22:14:33.488275",
     "exception": false,
     "start_time": "2020-09-14T22:14:33.193416",
     "status": "completed"
    },
    "tags": []
   },
   "outputs": [
    {
     "data": {
      "image/png": "[encoded data removed]",
      "text/plain": [
       "<Figure size 864x360 with 1 Axes>"
      ]
     },
     "metadata": {
      "needs_background": "light"
     },
     "output_type": "display_data"
    }
   ],
   "source": [
    "dataTypeDf = (df.dtypes.astype(str).value_counts()).reset_index().rename(columns={\"index\":\"variableType\",0:\"count\"})\n",
    "fig,ax = plt.subplots()\n",
    "fig.set_size_inches(12,5)\n",
    "get_count_plot('variableType',dataTypeDf, ax, 'count', value_counts='count', print_percent=True)"
   ]
  },
  {
   "cell_type": "markdown",
   "metadata": {
    "id": "p7rUf-9Eg_Fg",
    "papermill": {
     "duration": 0.078211,
     "end_time": "2020-09-14T22:14:33.645167",
     "exception": false,
     "start_time": "2020-09-14T22:14:33.566956",
     "status": "completed"
    },
    "tags": []
   },
   "source": [
    "So we have 50% of data as categorical data"
   ]
  },
  {
   "cell_type": "markdown",
   "metadata": {
    "id": "LaYgMDVuQdA1",
    "papermill": {
     "duration": 0.079142,
     "end_time": "2020-09-14T22:14:33.802670",
     "exception": false,
     "start_time": "2020-09-14T22:14:33.723528",
     "status": "completed"
    },
    "tags": []
   },
   "source": [
    "# Exploratory Data Analysis"
   ]
  },
  {
   "cell_type": "markdown",
   "metadata": {
    "id": "asdAUb-2h3Vz",
    "papermill": {
     "duration": 0.077997,
     "end_time": "2020-09-14T22:14:33.960509",
     "exception": false,
     "start_time": "2020-09-14T22:14:33.882512",
     "status": "completed"
    },
    "tags": []
   },
   "source": [
    "### Descriptive stats for numerical and categorical values"
   ]
  },
  {
   "cell_type": "code",
   "execution_count": 30,
   "metadata": {
    "execution": {
     "iopub.execute_input": "2020-09-14T22:14:34.128285Z",
     "iopub.status.busy": "2020-09-14T22:14:34.127594Z",
     "iopub.status.idle": "2020-09-14T22:14:34.158761Z",
     "shell.execute_reply": "2020-09-14T22:14:34.158090Z"
    },
    "id": "cR4cG4CwhwzP",
    "outputId": "7d91c69c-4173-4e1c-f878-1c8a3028859f",
    "papermill": {
     "duration": 0.11969,
     "end_time": "2020-09-14T22:14:34.158882",
     "exception": false,
     "start_time": "2020-09-14T22:14:34.039192",
     "status": "completed"
    },
    "tags": []
   },
   "outputs": [
    {
     "data": {
      "text/html": [
       "<div>\n",
       "<style scoped>\n",
       "    .dataframe tbody tr th:only-of-type {\n",
       "        vertical-align: middle;\n",
       "    }\n",
       "\n",
       "    .dataframe tbody tr th {\n",
       "        vertical-align: top;\n",
       "    }\n",
       "\n",
       "    .dataframe thead th {\n",
       "        text-align: right;\n",
       "    }\n",
       "</style>\n",
       "<table border=\"1\" class=\"dataframe\">\n",
       "  <thead>\n",
       "    <tr style=\"text-align: right;\">\n",
       "      <th></th>\n",
       "      <th>temp</th>\n",
       "      <th>atemp</th>\n",
       "      <th>humidity</th>\n",
       "      <th>windspeed</th>\n",
       "      <th>casual</th>\n",
       "      <th>registered</th>\n",
       "      <th>cnt</th>\n",
       "    </tr>\n",
       "  </thead>\n",
       "  <tbody>\n",
       "    <tr>\n",
       "      <th>count</th>\n",
       "      <td>10886.00000</td>\n",
       "      <td>10886.000000</td>\n",
       "      <td>10886.000000</td>\n",
       "      <td>10886.000000</td>\n",
       "      <td>10886.000000</td>\n",
       "      <td>10886.000000</td>\n",
       "      <td>10886.000000</td>\n",
       "    </tr>\n",
       "    <tr>\n",
       "      <th>mean</th>\n",
       "      <td>20.23086</td>\n",
       "      <td>23.655084</td>\n",
       "      <td>61.886460</td>\n",
       "      <td>12.799395</td>\n",
       "      <td>36.021955</td>\n",
       "      <td>155.552177</td>\n",
       "      <td>191.574132</td>\n",
       "    </tr>\n",
       "    <tr>\n",
       "      <th>std</th>\n",
       "      <td>7.79159</td>\n",
       "      <td>8.474601</td>\n",
       "      <td>19.245033</td>\n",
       "      <td>8.164537</td>\n",
       "      <td>49.960477</td>\n",
       "      <td>151.039033</td>\n",
       "      <td>181.144454</td>\n",
       "    </tr>\n",
       "    <tr>\n",
       "      <th>min</th>\n",
       "      <td>0.82000</td>\n",
       "      <td>0.760000</td>\n",
       "      <td>0.000000</td>\n",
       "      <td>0.000000</td>\n",
       "      <td>0.000000</td>\n",
       "      <td>0.000000</td>\n",
       "      <td>1.000000</td>\n",
       "    </tr>\n",
       "    <tr>\n",
       "      <th>25%</th>\n",
       "      <td>13.94000</td>\n",
       "      <td>16.665000</td>\n",
       "      <td>47.000000</td>\n",
       "      <td>7.001500</td>\n",
       "      <td>4.000000</td>\n",
       "      <td>36.000000</td>\n",
       "      <td>42.000000</td>\n",
       "    </tr>\n",
       "    <tr>\n",
       "      <th>50%</th>\n",
       "      <td>20.50000</td>\n",
       "      <td>24.240000</td>\n",
       "      <td>62.000000</td>\n",
       "      <td>12.998000</td>\n",
       "      <td>17.000000</td>\n",
       "      <td>118.000000</td>\n",
       "      <td>145.000000</td>\n",
       "    </tr>\n",
       "    <tr>\n",
       "      <th>75%</th>\n",
       "      <td>26.24000</td>\n",
       "      <td>31.060000</td>\n",
       "      <td>77.000000</td>\n",
       "      <td>16.997900</td>\n",
       "      <td>49.000000</td>\n",
       "      <td>222.000000</td>\n",
       "      <td>284.000000</td>\n",
       "    </tr>\n",
       "    <tr>\n",
       "      <th>max</th>\n",
       "      <td>41.00000</td>\n",
       "      <td>45.455000</td>\n",
       "      <td>100.000000</td>\n",
       "      <td>56.996900</td>\n",
       "      <td>367.000000</td>\n",
       "      <td>886.000000</td>\n",
       "      <td>977.000000</td>\n",
       "    </tr>\n",
       "  </tbody>\n",
       "</table>\n",
       "</div>"
      ],
      "text/plain": [
       "              temp         atemp      humidity     windspeed        casual  \\\n",
       "count  10886.00000  10886.000000  10886.000000  10886.000000  10886.000000   \n",
       "mean      20.23086     23.655084     61.886460     12.799395     36.021955   \n",
       "std        7.79159      8.474601     19.245033      8.164537     49.960477   \n",
       "min        0.82000      0.760000      0.000000      0.000000      0.000000   \n",
       "25%       13.94000     16.665000     47.000000      7.001500      4.000000   \n",
       "50%       20.50000     24.240000     62.000000     12.998000     17.000000   \n",
       "75%       26.24000     31.060000     77.000000     16.997900     49.000000   \n",
       "max       41.00000     45.455000    100.000000     56.996900    367.000000   \n",
       "\n",
       "         registered           cnt  \n",
       "count  10886.000000  10886.000000  \n",
       "mean     155.552177    191.574132  \n",
       "std      151.039033    181.144454  \n",
       "min        0.000000      1.000000  \n",
       "25%       36.000000     42.000000  \n",
       "50%      118.000000    145.000000  \n",
       "75%      222.000000    284.000000  \n",
       "max      886.000000    977.000000  "
      ]
     },
     "execution_count": 30,
     "metadata": {},
     "output_type": "execute_result"
    }
   ],
   "source": [
    "df[get_numerical_and_categorical_col(df)[0]].describe()"
   ]
  },
  {
   "cell_type": "code",
   "execution_count": 31,
   "metadata": {
    "execution": {
     "iopub.execute_input": "2020-09-14T22:14:34.325520Z",
     "iopub.status.busy": "2020-09-14T22:14:34.324850Z",
     "iopub.status.idle": "2020-09-14T22:14:34.375992Z",
     "shell.execute_reply": "2020-09-14T22:14:34.375380Z"
    },
    "id": "hB_aKRWEjFGd",
    "outputId": "fa7e023b-eb60-46e6-cecb-58db1ec037fd",
    "papermill": {
     "duration": 0.13841,
     "end_time": "2020-09-14T22:14:34.376109",
     "exception": false,
     "start_time": "2020-09-14T22:14:34.237699",
     "status": "completed"
    },
    "tags": []
   },
   "outputs": [
    {
     "data": {
      "text/html": [
       "<div>\n",
       "<style scoped>\n",
       "    .dataframe tbody tr th:only-of-type {\n",
       "        vertical-align: middle;\n",
       "    }\n",
       "\n",
       "    .dataframe tbody tr th {\n",
       "        vertical-align: top;\n",
       "    }\n",
       "\n",
       "    .dataframe thead th {\n",
       "        text-align: right;\n",
       "    }\n",
       "</style>\n",
       "<table border=\"1\" class=\"dataframe\">\n",
       "  <thead>\n",
       "    <tr style=\"text-align: right;\">\n",
       "      <th></th>\n",
       "      <th>season</th>\n",
       "      <th>holiday</th>\n",
       "      <th>workingday</th>\n",
       "      <th>yr</th>\n",
       "      <th>hr</th>\n",
       "      <th>weekday</th>\n",
       "      <th>mnth</th>\n",
       "      <th>weathersit</th>\n",
       "    </tr>\n",
       "  </thead>\n",
       "  <tbody>\n",
       "    <tr>\n",
       "      <th>count</th>\n",
       "      <td>10886</td>\n",
       "      <td>10886</td>\n",
       "      <td>10886</td>\n",
       "      <td>10886</td>\n",
       "      <td>10886</td>\n",
       "      <td>10886</td>\n",
       "      <td>10886</td>\n",
       "      <td>10886</td>\n",
       "    </tr>\n",
       "    <tr>\n",
       "      <th>unique</th>\n",
       "      <td>4</td>\n",
       "      <td>2</td>\n",
       "      <td>2</td>\n",
       "      <td>2</td>\n",
       "      <td>24</td>\n",
       "      <td>7</td>\n",
       "      <td>12</td>\n",
       "      <td>4</td>\n",
       "    </tr>\n",
       "    <tr>\n",
       "      <th>top</th>\n",
       "      <td>4</td>\n",
       "      <td>0</td>\n",
       "      <td>1</td>\n",
       "      <td>1</td>\n",
       "      <td>23</td>\n",
       "      <td>6</td>\n",
       "      <td>11</td>\n",
       "      <td>1</td>\n",
       "    </tr>\n",
       "    <tr>\n",
       "      <th>freq</th>\n",
       "      <td>2734</td>\n",
       "      <td>10575</td>\n",
       "      <td>7412</td>\n",
       "      <td>5464</td>\n",
       "      <td>456</td>\n",
       "      <td>1584</td>\n",
       "      <td>912</td>\n",
       "      <td>7192</td>\n",
       "    </tr>\n",
       "  </tbody>\n",
       "</table>\n",
       "</div>"
      ],
      "text/plain": [
       "        season  holiday  workingday     yr     hr  weekday   mnth  weathersit\n",
       "count    10886    10886       10886  10886  10886    10886  10886       10886\n",
       "unique       4        2           2      2     24        7     12           4\n",
       "top          4        0           1      1     23        6     11           1\n",
       "freq      2734    10575        7412   5464    456     1584    912        7192"
      ]
     },
     "execution_count": 31,
     "metadata": {},
     "output_type": "execute_result"
    }
   ],
   "source": [
    "df[get_numerical_and_categorical_col(df)[1]].describe(include='all')"
   ]
  },
  {
   "cell_type": "code",
   "execution_count": 32,
   "metadata": {
    "execution": {
     "iopub.execute_input": "2020-09-14T22:14:34.548165Z",
     "iopub.status.busy": "2020-09-14T22:14:34.540287Z",
     "iopub.status.idle": "2020-09-14T22:14:36.255459Z",
     "shell.execute_reply": "2020-09-14T22:14:36.256098Z"
    },
    "id": "8HaJKeu0kpf8",
    "outputId": "eb1d7c70-b376-47da-97a5-3b664d2eb276",
    "papermill": {
     "duration": 1.801003,
     "end_time": "2020-09-14T22:14:36.256242",
     "exception": false,
     "start_time": "2020-09-14T22:14:34.455239",
     "status": "completed"
    },
    "tags": []
   },
   "outputs": [
    {
     "data": {
      "image/png": "[encoded data removed]",
      "text/plain": [
       "<Figure size 1080x648 with 7 Axes>"
      ]
     },
     "metadata": {
      "needs_background": "light"
     },
     "output_type": "display_data"
    }
   ],
   "source": [
    "get_plot_for_numerical(df,3)"
   ]
  },
  {
   "cell_type": "markdown",
   "metadata": {
    "id": "iv9SzhuJEZPI",
    "papermill": {
     "duration": 0.081118,
     "end_time": "2020-09-14T22:14:36.420057",
     "exception": false,
     "start_time": "2020-09-14T22:14:36.338939",
     "status": "completed"
    },
    "tags": []
   },
   "source": [
    "Cnt, casual and registered have log normal distribution, can be converted to near normal taking log of these variables.\n",
    "<br>Also, did you see uncanny similarity between these 3 variables? <br>Either we're too lucky to get such a data set or is it too good to be true?<br>\n",
    "Let's dig deeper!!"
   ]
  },
  {
   "cell_type": "markdown",
   "metadata": {
    "id": "OZUOxQHsFhCj",
    "papermill": {
     "duration": 0.082739,
     "end_time": "2020-09-14T22:14:36.584348",
     "exception": false,
     "start_time": "2020-09-14T22:14:36.501609",
     "status": "completed"
    },
    "tags": []
   },
   "source": [
    "### Visualizing correlation Matrix"
   ]
  },
  {
   "cell_type": "code",
   "execution_count": 33,
   "metadata": {
    "execution": {
     "iopub.execute_input": "2020-09-14T22:14:36.754956Z",
     "iopub.status.busy": "2020-09-14T22:14:36.753937Z",
     "iopub.status.idle": "2020-09-14T22:14:37.031142Z",
     "shell.execute_reply": "2020-09-14T22:14:37.031686Z"
    },
    "id": "GBJn5wybDUTi",
    "outputId": "d3f94685-3874-4aff-8eab-1745b2b507eb",
    "papermill": {
     "duration": 0.3647,
     "end_time": "2020-09-14T22:14:37.031841",
     "exception": false,
     "start_time": "2020-09-14T22:14:36.667141",
     "status": "completed"
    },
    "tags": []
   },
   "outputs": [
    {
     "data": {
      "image/png": "[encoded data removed]",
      "text/plain": [
       "<Figure size 504x360 with 2 Axes>"
      ]
     },
     "metadata": {
      "needs_background": "light"
     },
     "output_type": "display_data"
    }
   ],
   "source": [
    "plt.figure(figsize=(7,5))\n",
    "visualize_corr_matrix(df)"
   ]
  },
  {
   "cell_type": "markdown",
   "metadata": {
    "id": "oLoonigOJHU4",
    "papermill": {
     "duration": 0.083168,
     "end_time": "2020-09-14T22:14:37.198498",
     "exception": false,
     "start_time": "2020-09-14T22:14:37.115330",
     "status": "completed"
    },
    "tags": []
   },
   "source": [
    "<b>The Analysis</b><br>\n",
    "Let's set a threshold, if two input variables have correlation greater than +- 0.4, they're good candidates for adding <b>Multicollinearity</b> hence one of them should be dropped.<br>\n",
    "<b>Multicollinearity</b> is dangerous as model won't be able to accurately which of the two variables is predicting it. Thus coefficients/ weights won't be assigned properly<br>\n",
    "atemp and temp have .99 correlation<br> Nothing surprising as they're essentially same values in different units. Let's drop one to them.\n",
    "<br>windspeed has very low predicting power, should be dropped too.\n",
    "casual seems to have g\n",
    "Registered and casual are highly correlated with each other, hence can drop one of these.<br>But wait for discussion part 2 on this, coming right after!"
   ]
  },
  {
   "cell_type": "markdown",
   "metadata": {
    "id": "YVkZEuqyGjyG",
    "papermill": {
     "duration": 0.083477,
     "end_time": "2020-09-14T22:14:37.365258",
     "exception": false,
     "start_time": "2020-09-14T22:14:37.281781",
     "status": "completed"
    },
    "tags": []
   },
   "source": [
    "<b>Analysis Part 2</b>\n",
    "Hmm registered variable is predicting count by .97!<br>\n",
    "This dataset is almost like winning a lottery in data science!<br>No now we're not just sniffing but sure there is something fishy about registered and casual!"
   ]
  },
  {
   "cell_type": "markdown",
   "metadata": {
    "id": "TrzYAafpHCtu",
    "papermill": {
     "duration": 0.082732,
     "end_time": "2020-09-14T22:14:37.531861",
     "exception": false,
     "start_time": "2020-09-14T22:14:37.449129",
     "status": "completed"
    },
    "tags": []
   },
   "source": [
    "Embrace yourself!<br> We've found... (Drum rolls in the background :P) <b>Leakage Variables</b> in our data set!<br>"
   ]
  },
  {
   "cell_type": "markdown",
   "metadata": {
    "id": "XWstvipDHmXW",
    "papermill": {
     "duration": 0.084321,
     "end_time": "2020-09-14T22:14:37.700981",
     "exception": false,
     "start_time": "2020-09-14T22:14:37.616660",
     "status": "completed"
    },
    "tags": []
   },
   "source": [
    "### <b>Leakage Variables</b>: Variables that expose information about the target variable\n",
    "When data contains a certain feature that already predicts the target has already occurred.\n",
    "\n",
    "In our problem registered and nonregistered variables are the leakage variables because for any given row total count of these two variables tells us that this was the number of cyclists for the row hence it is directly predicting the target.\n",
    "<br><a href=\"https://link.medium.com/Rk1IJWxeK9\">More on this here</a>\n"
   ]
  },
  {
   "cell_type": "code",
   "execution_count": 34,
   "metadata": {
    "execution": {
     "iopub.execute_input": "2020-09-14T22:14:37.872564Z",
     "iopub.status.busy": "2020-09-14T22:14:37.871806Z",
     "iopub.status.idle": "2020-09-14T22:14:37.877627Z",
     "shell.execute_reply": "2020-09-14T22:14:37.878153Z"
    },
    "id": "mAbw5JN3GSnp",
    "papermill": {
     "duration": 0.092908,
     "end_time": "2020-09-14T22:14:37.878295",
     "exception": false,
     "start_time": "2020-09-14T22:14:37.785387",
     "status": "completed"
    },
    "tags": []
   },
   "outputs": [],
   "source": [
    "'''Let's start creating a list which contains all the variables to be deleted.\n",
    "We can delete them once we're done with our exploratory analysis'''\n",
    "cols_to_remove = ['registered','casual','windspeed']\n",
    "#besides atemp should be deleted immediately for obvious reasons!\n",
    "del df['atemp']\n",
    "del df_test['atemp']"
   ]
  },
  {
   "cell_type": "markdown",
   "metadata": {
    "id": "h82wSqTgMfxJ",
    "papermill": {
     "duration": 0.083554,
     "end_time": "2020-09-14T22:14:38.046009",
     "exception": false,
     "start_time": "2020-09-14T22:14:37.962455",
     "status": "completed"
    },
    "tags": []
   },
   "source": [
    "### Outlier Analysis"
   ]
  },
  {
   "cell_type": "code",
   "execution_count": 35,
   "metadata": {
    "execution": {
     "iopub.execute_input": "2020-09-14T22:14:38.220546Z",
     "iopub.status.busy": "2020-09-14T22:14:38.219787Z",
     "iopub.status.idle": "2020-09-14T22:14:39.020652Z",
     "shell.execute_reply": "2020-09-14T22:14:39.020004Z"
    },
    "id": "1HQeXbqvtHfP",
    "outputId": "83588f26-d863-4f84-ea08-2c18d7c2d877",
    "papermill": {
     "duration": 0.888933,
     "end_time": "2020-09-14T22:14:39.020828",
     "exception": false,
     "start_time": "2020-09-14T22:14:38.131895",
     "status": "completed"
    },
    "tags": []
   },
   "outputs": [
    {
     "data": {
      "image/png": "[encoded data removed]",
      "text/plain": [
       "<Figure size 1080x432 with 6 Axes>"
      ]
     },
     "metadata": {
      "needs_background": "light"
     },
     "output_type": "display_data"
    }
   ],
   "source": [
    "get_plot_for_numerical(df, 3, plot_type='box')"
   ]
  },
  {
   "cell_type": "code",
   "execution_count": 36,
   "metadata": {
    "execution": {
     "iopub.execute_input": "2020-09-14T22:14:39.210849Z",
     "iopub.status.busy": "2020-09-14T22:14:39.209731Z",
     "iopub.status.idle": "2020-09-14T22:14:40.986514Z",
     "shell.execute_reply": "2020-09-14T22:14:40.985940Z"
    },
    "id": "cDhJHB-7tuB7",
    "outputId": "f3d9a24f-add8-4864-d684-b48bda612765",
    "papermill": {
     "duration": 1.881044,
     "end_time": "2020-09-14T22:14:40.986636",
     "exception": false,
     "start_time": "2020-09-14T22:14:39.105592",
     "status": "completed"
    },
    "tags": []
   },
   "outputs": [
    {
     "data": {
      "image/png": "[encoded data removed]",
      "text/plain": [
       "<Figure size 1080x648 with 8 Axes>"
      ]
     },
     "metadata": {
      "needs_background": "light"
     },
     "output_type": "display_data"
    }
   ],
   "source": [
    "get_target_dist_with_categorical(df,n_cols=3)"
   ]
  },
  {
   "cell_type": "code",
   "execution_count": 37,
   "metadata": {
    "execution": {
     "iopub.execute_input": "2020-09-14T22:14:41.170114Z",
     "iopub.status.busy": "2020-09-14T22:14:41.166049Z",
     "iopub.status.idle": "2020-09-14T22:14:43.298584Z",
     "shell.execute_reply": "2020-09-14T22:14:43.299092Z"
    },
    "id": "c5NZ3BpeLaOh",
    "outputId": "933137d9-79d3-40f6-ee97-bf8c5f377d94",
    "papermill": {
     "duration": 2.225575,
     "end_time": "2020-09-14T22:14:43.299230",
     "exception": false,
     "start_time": "2020-09-14T22:14:41.073655",
     "status": "completed"
    },
    "tags": []
   },
   "outputs": [
    {
     "data": {
      "image/png": "[encoded data removed]",
      "text/plain": [
       "<Figure size 720x864 with 8 Axes>"
      ]
     },
     "metadata": {
      "needs_background": "light"
     },
     "output_type": "display_data"
    }
   ],
   "source": [
    "get_target_dist_with_categorical(df, n_cols=2, plot_type='violin')"
   ]
  },
  {
   "cell_type": "markdown",
   "metadata": {
    "id": "-sCb-MxuQHWp",
    "papermill": {
     "duration": 0.08939,
     "end_time": "2020-09-14T22:14:43.479658",
     "exception": false,
     "start_time": "2020-09-14T22:14:43.390268",
     "status": "completed"
    },
    "tags": []
   },
   "source": [
    "It’s pretty evident outliers have been contributed the most by season 3. Also average numbers are highest in this season.\n",
    "<br>Working day or not, mean bikers count is almost the same telling us that biking is not just being used for leisure but for daily activities too.\n",
    "<br>Same is supported by the fact there is high rise in number of bikers from 7 to 9 AM and 5 to 7 and gradually decreasing on both sides, suggesting these as school or office commute hours.\n",
    "<br>Outliers in the evening time and on holidays or working or the seasons least favourable for bike rides may suggest an event in the city!\n",
    "\n",
    "Month, hr and season seem to be good predictors"
   ]
  },
  {
   "cell_type": "markdown",
   "metadata": {
    "id": "VSclb0ldQrVZ",
    "papermill": {
     "duration": 0.089495,
     "end_time": "2020-09-14T22:14:43.659096",
     "exception": false,
     "start_time": "2020-09-14T22:14:43.569601",
     "status": "completed"
    },
    "tags": []
   },
   "source": [
    "Distribution across all parameters is almost log normal, right skewed.\n",
    "<br>"
   ]
  },
  {
   "cell_type": "code",
   "execution_count": 38,
   "metadata": {
    "execution": {
     "iopub.execute_input": "2020-09-14T22:14:43.847891Z",
     "iopub.status.busy": "2020-09-14T22:14:43.846810Z",
     "iopub.status.idle": "2020-09-14T22:14:44.300618Z",
     "shell.execute_reply": "2020-09-14T22:14:44.300050Z"
    },
    "id": "SGeeg32jl_lu",
    "outputId": "6e095719-6fd5-4fb5-e74f-6860ab4ffe53",
    "papermill": {
     "duration": 0.552106,
     "end_time": "2020-09-14T22:14:44.300732",
     "exception": false,
     "start_time": "2020-09-14T22:14:43.748626",
     "status": "completed"
    },
    "tags": []
   },
   "outputs": [
    {
     "data": {
      "text/plain": [
       "{'season holiday': 'Independent? False',\n",
       " 'season workingday': 'Independent? True',\n",
       " 'season yr': 'Independent? True',\n",
       " 'season hr': 'Independent? True',\n",
       " 'season weekday': 'Independent? True',\n",
       " 'season mnth': 'Independent? False',\n",
       " 'season weathersit': 'Independent? False',\n",
       " 'holiday workingday': 'Independent? False',\n",
       " 'holiday yr': 'Independent? True',\n",
       " 'holiday hr': 'Independent? True',\n",
       " 'holiday weekday': 'Independent? False',\n",
       " 'holiday mnth': 'Independent? False',\n",
       " 'holiday weathersit': 'Independent? True',\n",
       " 'workingday yr': 'Independent? True',\n",
       " 'workingday hr': 'Independent? True',\n",
       " 'workingday weekday': 'Independent? False',\n",
       " 'workingday mnth': 'Independent? False',\n",
       " 'workingday weathersit': 'Independent? False',\n",
       " 'yr hr': 'Independent? True',\n",
       " 'yr weekday': 'Independent? True',\n",
       " 'yr mnth': 'Independent? True',\n",
       " 'yr weathersit': 'Independent? False',\n",
       " 'hr weekday': 'Independent? True',\n",
       " 'hr mnth': 'Independent? True',\n",
       " 'hr weathersit': 'Independent? False',\n",
       " 'weekday mnth': 'Independent? False',\n",
       " 'weekday weathersit': 'Independent? False',\n",
       " 'mnth weathersit': 'Independent? False'}"
      ]
     },
     "execution_count": 38,
     "metadata": {},
     "output_type": "execute_result"
    }
   ],
   "source": [
    "#Let's perform categorical test chi2 to decide which categorical columns to delete\n",
    "chi2_dict = calculate_chi_square_values(df)\n",
    "chi2_dict"
   ]
  },
  {
   "cell_type": "markdown",
   "metadata": {
    "id": "iyKvdmyCnwwt",
    "papermill": {
     "duration": 0.089754,
     "end_time": "2020-09-14T22:14:44.481481",
     "exception": false,
     "start_time": "2020-09-14T22:14:44.391727",
     "status": "completed"
    },
    "tags": []
   },
   "source": [
    "From the visual analysis, month, hr, season seems to be a good predictor.<br>\n",
    "Out of these 3, month and season describe the most!<br>\n",
    "Hence we'll remove all other categorical values dependent on hr\n",
    "<br>Weathersit is dependent on all\n",
    "<br>holiday, weekday, workingday, month, season all dependent!\n"
   ]
  },
  {
   "cell_type": "code",
   "execution_count": 39,
   "metadata": {
    "execution": {
     "iopub.execute_input": "2020-09-14T22:14:44.668535Z",
     "iopub.status.busy": "2020-09-14T22:14:44.667723Z",
     "iopub.status.idle": "2020-09-14T22:14:44.672046Z",
     "shell.execute_reply": "2020-09-14T22:14:44.671334Z"
    },
    "id": "caRO5SuvbKjG",
    "papermill": {
     "duration": 0.100138,
     "end_time": "2020-09-14T22:14:44.672156",
     "exception": false,
     "start_time": "2020-09-14T22:14:44.572018",
     "status": "completed"
    },
    "tags": []
   },
   "outputs": [],
   "source": [
    "cols_to_remove.append('season')\n",
    "cols_to_remove.append('holiday')\n",
    "cols_to_remove.append('weekday')\n",
    "cols_to_remove.append('weathersit')"
   ]
  },
  {
   "cell_type": "code",
   "execution_count": 40,
   "metadata": {
    "execution": {
     "iopub.execute_input": "2020-09-14T22:14:44.860894Z",
     "iopub.status.busy": "2020-09-14T22:14:44.859889Z",
     "iopub.status.idle": "2020-09-14T22:14:48.480117Z",
     "shell.execute_reply": "2020-09-14T22:14:48.480739Z"
    },
    "id": "xzo7OFhVizwg",
    "outputId": "748b6931-5235-4b31-e71d-061c28427ded",
    "papermill": {
     "duration": 3.718315,
     "end_time": "2020-09-14T22:14:48.481043",
     "exception": false,
     "start_time": "2020-09-14T22:14:44.762728",
     "status": "completed"
    },
    "tags": []
   },
   "outputs": [
    {
     "data": {
      "text/plain": [
       "<matplotlib.axes._subplots.AxesSubplot at 0x7f3f80be2a50>"
      ]
     },
     "execution_count": 40,
     "metadata": {},
     "output_type": "execute_result"
    },
    {
     "data": {
      "image/png": "[encoded data removed]",
      "text/plain": [
       "<Figure size 432x288 with 1 Axes>"
      ]
     },
     "metadata": {
      "needs_background": "light"
     },
     "output_type": "display_data"
    }
   ],
   "source": [
    "sns.pointplot(x='hr',y='cnt',data=df, hue='season', markers = 'x')"
   ]
  },
  {
   "cell_type": "code",
   "execution_count": 41,
   "metadata": {
    "execution": {
     "iopub.execute_input": "2020-09-14T22:14:48.675763Z",
     "iopub.status.busy": "2020-09-14T22:14:48.674723Z",
     "iopub.status.idle": "2020-09-14T22:14:54.844557Z",
     "shell.execute_reply": "2020-09-14T22:14:54.843965Z"
    },
    "id": "FBj5G1vSjYxg",
    "outputId": "d69c9eb4-e884-4b18-ae75-37bf92f4a601",
    "papermill": {
     "duration": 6.270878,
     "end_time": "2020-09-14T22:14:54.844671",
     "exception": false,
     "start_time": "2020-09-14T22:14:48.573793",
     "status": "completed"
    },
    "tags": []
   },
   "outputs": [
    {
     "data": {
      "text/plain": [
       "<matplotlib.axes._subplots.AxesSubplot at 0x7f3f80f239d0>"
      ]
     },
     "execution_count": 41,
     "metadata": {},
     "output_type": "execute_result"
    },
    {
     "data": {
      "image/png": "[encoded data removed]",
      "text/plain": [
       "<Figure size 432x288 with 1 Axes>"
      ]
     },
     "metadata": {
      "needs_background": "light"
     },
     "output_type": "display_data"
    }
   ],
   "source": [
    "sns.pointplot(x='hr',y='cnt',data=df, hue='weekday', markers = 'x')"
   ]
  },
  {
   "cell_type": "code",
   "execution_count": 42,
   "metadata": {
    "execution": {
     "iopub.execute_input": "2020-09-14T22:14:55.053039Z",
     "iopub.status.busy": "2020-09-14T22:14:55.052268Z",
     "iopub.status.idle": "2020-09-14T22:14:55.066067Z",
     "shell.execute_reply": "2020-09-14T22:14:55.066729Z"
    },
    "id": "1O6JUKwyjxXO",
    "outputId": "cc69b6a6-16d7-4f9a-b81c-74093c12c812",
    "papermill": {
     "duration": 0.126245,
     "end_time": "2020-09-14T22:14:55.066936",
     "exception": false,
     "start_time": "2020-09-14T22:14:54.940691",
     "status": "completed"
    },
    "tags": []
   },
   "outputs": [
    {
     "data": {
      "text/html": [
       "<div>\n",
       "<style scoped>\n",
       "    .dataframe tbody tr th:only-of-type {\n",
       "        vertical-align: middle;\n",
       "    }\n",
       "\n",
       "    .dataframe tbody tr th {\n",
       "        vertical-align: top;\n",
       "    }\n",
       "\n",
       "    .dataframe thead th {\n",
       "        text-align: right;\n",
       "    }\n",
       "</style>\n",
       "<table border=\"1\" class=\"dataframe\">\n",
       "  <thead>\n",
       "    <tr style=\"text-align: right;\">\n",
       "      <th></th>\n",
       "      <th>hr</th>\n",
       "      <th>variable</th>\n",
       "      <th>value</th>\n",
       "    </tr>\n",
       "  </thead>\n",
       "  <tbody>\n",
       "    <tr>\n",
       "      <th>0</th>\n",
       "      <td>00</td>\n",
       "      <td>casual</td>\n",
       "      <td>3</td>\n",
       "    </tr>\n",
       "    <tr>\n",
       "      <th>5014</th>\n",
       "      <td>00</td>\n",
       "      <td>casual</td>\n",
       "      <td>10</td>\n",
       "    </tr>\n",
       "    <tr>\n",
       "      <th>949</th>\n",
       "      <td>00</td>\n",
       "      <td>casual</td>\n",
       "      <td>0</td>\n",
       "    </tr>\n",
       "    <tr>\n",
       "      <th>14869</th>\n",
       "      <td>00</td>\n",
       "      <td>registered</td>\n",
       "      <td>80</td>\n",
       "    </tr>\n",
       "    <tr>\n",
       "      <th>5038</th>\n",
       "      <td>00</td>\n",
       "      <td>casual</td>\n",
       "      <td>19</td>\n",
       "    </tr>\n",
       "  </tbody>\n",
       "</table>\n",
       "</div>"
      ],
      "text/plain": [
       "       hr    variable  value\n",
       "0      00      casual      3\n",
       "5014   00      casual     10\n",
       "949    00      casual      0\n",
       "14869  00  registered     80\n",
       "5038   00      casual     19"
      ]
     },
     "execution_count": 42,
     "metadata": {},
     "output_type": "execute_result"
    }
   ],
   "source": [
    "#to visualize similar plot for type of user, we would need to use melt\n",
    "#what melt would do, take each hour and generate rows for value variables. Next we'll use this to find mean for each hour and for each type of users\n",
    "hr_users_type = pd.melt(df[[\"hr\",\"casual\",\"registered\"]], id_vars=['hr'], value_vars=['casual', 'registered']).sort_values(by='hr')\n",
    "hr_users_type.head()"
   ]
  },
  {
   "cell_type": "code",
   "execution_count": 43,
   "metadata": {
    "execution": {
     "iopub.execute_input": "2020-09-14T22:14:55.263849Z",
     "iopub.status.busy": "2020-09-14T22:14:55.262877Z",
     "iopub.status.idle": "2020-09-14T22:14:55.281010Z",
     "shell.execute_reply": "2020-09-14T22:14:55.281505Z"
    },
    "id": "f-L4iPwNkrM1",
    "outputId": "fd8c5975-1952-4f27-e57a-45145da7e01d",
    "papermill": {
     "duration": 0.119303,
     "end_time": "2020-09-14T22:14:55.281656",
     "exception": false,
     "start_time": "2020-09-14T22:14:55.162353",
     "status": "completed"
    },
    "tags": []
   },
   "outputs": [
    {
     "data": {
      "text/html": [
       "<div>\n",
       "<style scoped>\n",
       "    .dataframe tbody tr th:only-of-type {\n",
       "        vertical-align: middle;\n",
       "    }\n",
       "\n",
       "    .dataframe tbody tr th {\n",
       "        vertical-align: top;\n",
       "    }\n",
       "\n",
       "    .dataframe thead th {\n",
       "        text-align: right;\n",
       "    }\n",
       "</style>\n",
       "<table border=\"1\" class=\"dataframe\">\n",
       "  <thead>\n",
       "    <tr style=\"text-align: right;\">\n",
       "      <th></th>\n",
       "      <th>hr</th>\n",
       "      <th>variable</th>\n",
       "      <th>value</th>\n",
       "    </tr>\n",
       "  </thead>\n",
       "  <tbody>\n",
       "    <tr>\n",
       "      <th>0</th>\n",
       "      <td>00</td>\n",
       "      <td>casual</td>\n",
       "      <td>10.312088</td>\n",
       "    </tr>\n",
       "    <tr>\n",
       "      <th>1</th>\n",
       "      <td>00</td>\n",
       "      <td>registered</td>\n",
       "      <td>44.826374</td>\n",
       "    </tr>\n",
       "    <tr>\n",
       "      <th>2</th>\n",
       "      <td>01</td>\n",
       "      <td>casual</td>\n",
       "      <td>6.513216</td>\n",
       "    </tr>\n",
       "    <tr>\n",
       "      <th>3</th>\n",
       "      <td>01</td>\n",
       "      <td>registered</td>\n",
       "      <td>27.345815</td>\n",
       "    </tr>\n",
       "    <tr>\n",
       "      <th>4</th>\n",
       "      <td>02</td>\n",
       "      <td>casual</td>\n",
       "      <td>4.819196</td>\n",
       "    </tr>\n",
       "  </tbody>\n",
       "</table>\n",
       "</div>"
      ],
      "text/plain": [
       "   hr    variable      value\n",
       "0  00      casual  10.312088\n",
       "1  00  registered  44.826374\n",
       "2  01      casual   6.513216\n",
       "3  01  registered  27.345815\n",
       "4  02      casual   4.819196"
      ]
     },
     "execution_count": 43,
     "metadata": {},
     "output_type": "execute_result"
    }
   ],
   "source": [
    "hr_users_type_mean = pd.DataFrame(hr_users_type.groupby([\"hr\",\"variable\"],sort=True)[\"value\"].mean()).reset_index()\n",
    "hr_users_type_mean.head()"
   ]
  },
  {
   "cell_type": "code",
   "execution_count": 44,
   "metadata": {
    "execution": {
     "iopub.execute_input": "2020-09-14T22:14:55.639080Z",
     "iopub.status.busy": "2020-09-14T22:14:55.637906Z",
     "iopub.status.idle": "2020-09-14T22:14:55.941234Z",
     "shell.execute_reply": "2020-09-14T22:14:55.940366Z"
    },
    "id": "F21BSinckuPi",
    "outputId": "fff83086-2303-453c-b0b2-645d9735fc40",
    "papermill": {
     "duration": 0.563707,
     "end_time": "2020-09-14T22:14:55.941364",
     "exception": false,
     "start_time": "2020-09-14T22:14:55.377657",
     "status": "completed"
    },
    "tags": []
   },
   "outputs": [
    {
     "data": {
      "text/plain": [
       "<matplotlib.axes._subplots.AxesSubplot at 0x7f3f8078cdd0>"
      ]
     },
     "execution_count": 44,
     "metadata": {},
     "output_type": "execute_result"
    },
    {
     "data": {
      "image/png": "[encoded data removed]",
      "text/plain": [
       "<Figure size 432x288 with 1 Axes>"
      ]
     },
     "metadata": {
      "needs_background": "light"
     },
     "output_type": "display_data"
    }
   ],
   "source": [
    "sns.pointplot(x=hr_users_type_mean[\"hr\"], y=hr_users_type_mean[\"value\"],hue=hr_users_type_mean[\"variable\"],hue_order=[\"casual\",\"registered\"], data=hr_users_type_mean, join=True)"
   ]
  },
  {
   "cell_type": "code",
   "execution_count": 45,
   "metadata": {
    "execution": {
     "iopub.execute_input": "2020-09-14T22:14:56.145378Z",
     "iopub.status.busy": "2020-09-14T22:14:56.144324Z",
     "iopub.status.idle": "2020-09-14T22:14:56.149204Z",
     "shell.execute_reply": "2020-09-14T22:14:56.148692Z"
    },
    "id": "ni3zHbI3Xab6",
    "outputId": "d0adf536-5676-40c6-d70c-7a442f1c2fe8",
    "papermill": {
     "duration": 0.108917,
     "end_time": "2020-09-14T22:14:56.149379",
     "exception": false,
     "start_time": "2020-09-14T22:14:56.040462",
     "status": "completed"
    },
    "tags": []
   },
   "outputs": [
    {
     "data": {
      "text/plain": [
       "['registered',\n",
       " 'casual',\n",
       " 'windspeed',\n",
       " 'season',\n",
       " 'holiday',\n",
       " 'weekday',\n",
       " 'weathersit',\n",
       " 'dteday']"
      ]
     },
     "execution_count": 45,
     "metadata": {},
     "output_type": "execute_result"
    }
   ],
   "source": [
    "#We done with visually exploring data, let's just see how many variables we decided to drop\n",
    "#Also we should be dropping dteday too\n",
    "cols_to_remove.append('dteday')\n",
    "cols_to_remove"
   ]
  },
  {
   "cell_type": "code",
   "execution_count": 46,
   "metadata": {
    "execution": {
     "iopub.execute_input": "2020-09-14T22:14:56.354599Z",
     "iopub.status.busy": "2020-09-14T22:14:56.353883Z",
     "iopub.status.idle": "2020-09-14T22:14:56.358416Z",
     "shell.execute_reply": "2020-09-14T22:14:56.357904Z"
    },
    "id": "RPNPav47lUgE",
    "outputId": "bb29959c-f69d-40ae-f533-34f12d22fee3",
    "papermill": {
     "duration": 0.109139,
     "end_time": "2020-09-14T22:14:56.358558",
     "exception": false,
     "start_time": "2020-09-14T22:14:56.249419",
     "status": "completed"
    },
    "tags": []
   },
   "outputs": [
    {
     "data": {
      "text/plain": [
       "Index(['season', 'holiday', 'workingday', 'temp', 'humidity', 'windspeed',\n",
       "       'casual', 'registered', 'dteday', 'yr', 'hr', 'weekday', 'mnth',\n",
       "       'weathersit', 'cnt'],\n",
       "      dtype='object')"
      ]
     },
     "execution_count": 46,
     "metadata": {},
     "output_type": "execute_result"
    }
   ],
   "source": [
    "df.columns"
   ]
  },
  {
   "cell_type": "code",
   "execution_count": 47,
   "metadata": {
    "execution": {
     "iopub.execute_input": "2020-09-14T22:14:56.561604Z",
     "iopub.status.busy": "2020-09-14T22:14:56.560958Z",
     "iopub.status.idle": "2020-09-14T22:14:56.585537Z",
     "shell.execute_reply": "2020-09-14T22:14:56.586133Z"
    },
    "id": "hC8ysqoxlXU5",
    "papermill": {
     "duration": 0.128901,
     "end_time": "2020-09-14T22:14:56.586279",
     "exception": false,
     "start_time": "2020-09-14T22:14:56.457378",
     "status": "completed"
    },
    "tags": []
   },
   "outputs": [],
   "source": [
    "#deleting outliers from all numerical variables\n",
    "for col in get_numerical_and_categorical_col(df)[0]:\n",
    " df = remove_outliers_for_variable_by_std(df, col)"
   ]
  },
  {
   "cell_type": "markdown",
   "metadata": {
    "id": "jkLLLlsV19Iy",
    "papermill": {
     "duration": 0.099487,
     "end_time": "2020-09-14T22:14:56.784935",
     "exception": false,
     "start_time": "2020-09-14T22:14:56.685448",
     "status": "completed"
    },
    "tags": []
   },
   "source": [
    "# Using Random Forest for feature importance<br>\n",
    "Using Random Forest to get feature importance values and we'll be comparing it with our list of columns to remove<br>\n",
    "... Moment of truth... Hang on"
   ]
  },
  {
   "cell_type": "code",
   "execution_count": 48,
   "metadata": {
    "execution": {
     "iopub.execute_input": "2020-09-14T22:14:56.988725Z",
     "iopub.status.busy": "2020-09-14T22:14:56.988016Z",
     "iopub.status.idle": "2020-09-14T22:15:01.049628Z",
     "shell.execute_reply": "2020-09-14T22:15:01.048790Z"
    },
    "id": "ddoHA_KoxCzd",
    "outputId": "d9346d35-c36f-4133-f456-575cf8c2594f",
    "papermill": {
     "duration": 4.164854,
     "end_time": "2020-09-14T22:15:01.049809",
     "exception": false,
     "start_time": "2020-09-14T22:14:56.884955",
     "status": "completed"
    },
    "tags": []
   },
   "outputs": [
    {
     "data": {
      "image/png": "[encoded data removed]",
      "text/plain": [
       "<Figure size 432x288 with 1 Axes>"
      ]
     },
     "metadata": {
      "needs_background": "light"
     },
     "output_type": "display_data"
    },
    {
     "name": "stdout",
     "output_type": "stream",
     "text": [
      "hr            0.607868\n",
      "temp          0.098320\n",
      "workingday    0.077106\n",
      "yr            0.059989\n",
      "mnth          0.046770\n",
      "humidity      0.043228\n",
      "weekday       0.020729\n",
      "weathersit    0.018351\n",
      "windspeed     0.013436\n",
      "season        0.012065\n",
      "holiday       0.002138\n",
      "dtype: float64\n",
      "Comparing with our columns\n",
      "['registered', 'casual', 'windspeed', 'season', 'holiday', 'weekday', 'weathersit', 'dteday']\n"
     ]
    }
   ],
   "source": [
    "from sklearn.ensemble import RandomForestRegressor\n",
    "np.random.seed(42)\n",
    "# drop target columns\n",
    "df_original = df.copy()\n",
    "drop_cols=['cnt', 'dteday','registered','casual']\n",
    "X = df.drop(drop_cols, axis = 1) # X = independent columns (potential predictors)\n",
    "y = df['cnt'] # y = target column (what we want to predict)\n",
    "# instantiate RandomForestClassifier\n",
    "rf_model = RandomForestRegressor()\n",
    "rf_model.fit(X,y)\n",
    "feat_importances = pd.Series(rf_model.feature_importances_, index=X.columns)\n",
    "# determine 20 most important features\n",
    "df_imp_feat = feat_importances.nlargest(20)\n",
    "df_imp_feat.plot(kind='bar')\n",
    "plt.show()\n",
    "print(df_imp_feat)\n",
    "print('Comparing with our columns')\n",
    "print(cols_to_remove)"
   ]
  },
  {
   "cell_type": "markdown",
   "metadata": {
    "id": "7ZczyP6G4t9p",
    "papermill": {
     "duration": 0.128303,
     "end_time": "2020-09-14T22:15:01.289804",
     "exception": false,
     "start_time": "2020-09-14T22:15:01.161501",
     "status": "completed"
    },
    "tags": []
   },
   "source": [
    "Phew!! So far so good!<br>\n",
    "<b>One last important step</b> is left... <br>\n",
    "Yes, you guessed it right! Let's go and clean the dataset by dropping the identified variables!<br>Woah, it was fun getting our hands dirty here!"
   ]
  },
  {
   "cell_type": "code",
   "execution_count": 49,
   "metadata": {
    "execution": {
     "iopub.execute_input": "2020-09-14T22:15:01.501501Z",
     "iopub.status.busy": "2020-09-14T22:15:01.500430Z",
     "iopub.status.idle": "2020-09-14T22:15:01.520734Z",
     "shell.execute_reply": "2020-09-14T22:15:01.520126Z"
    },
    "id": "RiO-zLSQxXig",
    "outputId": "efd919dd-b033-45f3-ecd2-25a65979bc95",
    "papermill": {
     "duration": 0.127034,
     "end_time": "2020-09-14T22:15:01.520852",
     "exception": false,
     "start_time": "2020-09-14T22:15:01.393818",
     "status": "completed"
    },
    "tags": []
   },
   "outputs": [
    {
     "data": {
      "text/html": [
       "<div>\n",
       "<style scoped>\n",
       "    .dataframe tbody tr th:only-of-type {\n",
       "        vertical-align: middle;\n",
       "    }\n",
       "\n",
       "    .dataframe tbody tr th {\n",
       "        vertical-align: top;\n",
       "    }\n",
       "\n",
       "    .dataframe thead th {\n",
       "        text-align: right;\n",
       "    }\n",
       "</style>\n",
       "<table border=\"1\" class=\"dataframe\">\n",
       "  <thead>\n",
       "    <tr style=\"text-align: right;\">\n",
       "      <th></th>\n",
       "      <th>workingday</th>\n",
       "      <th>temp</th>\n",
       "      <th>humidity</th>\n",
       "      <th>yr</th>\n",
       "      <th>hr</th>\n",
       "      <th>mnth</th>\n",
       "      <th>cnt</th>\n",
       "    </tr>\n",
       "  </thead>\n",
       "  <tbody>\n",
       "    <tr>\n",
       "      <th>0</th>\n",
       "      <td>0</td>\n",
       "      <td>9.84</td>\n",
       "      <td>81</td>\n",
       "      <td>0</td>\n",
       "      <td>00</td>\n",
       "      <td>0</td>\n",
       "      <td>16</td>\n",
       "    </tr>\n",
       "    <tr>\n",
       "      <th>1</th>\n",
       "      <td>0</td>\n",
       "      <td>9.02</td>\n",
       "      <td>80</td>\n",
       "      <td>0</td>\n",
       "      <td>01</td>\n",
       "      <td>0</td>\n",
       "      <td>40</td>\n",
       "    </tr>\n",
       "    <tr>\n",
       "      <th>2</th>\n",
       "      <td>0</td>\n",
       "      <td>9.02</td>\n",
       "      <td>80</td>\n",
       "      <td>0</td>\n",
       "      <td>02</td>\n",
       "      <td>0</td>\n",
       "      <td>32</td>\n",
       "    </tr>\n",
       "    <tr>\n",
       "      <th>3</th>\n",
       "      <td>0</td>\n",
       "      <td>9.84</td>\n",
       "      <td>75</td>\n",
       "      <td>0</td>\n",
       "      <td>03</td>\n",
       "      <td>0</td>\n",
       "      <td>13</td>\n",
       "    </tr>\n",
       "    <tr>\n",
       "      <th>4</th>\n",
       "      <td>0</td>\n",
       "      <td>9.84</td>\n",
       "      <td>75</td>\n",
       "      <td>0</td>\n",
       "      <td>04</td>\n",
       "      <td>0</td>\n",
       "      <td>1</td>\n",
       "    </tr>\n",
       "  </tbody>\n",
       "</table>\n",
       "</div>"
      ],
      "text/plain": [
       "  workingday  temp  humidity yr  hr mnth  cnt\n",
       "0          0  9.84        81  0  00    0   16\n",
       "1          0  9.02        80  0  01    0   40\n",
       "2          0  9.02        80  0  02    0   32\n",
       "3          0  9.84        75  0  03    0   13\n",
       "4          0  9.84        75  0  04    0    1"
      ]
     },
     "execution_count": 49,
     "metadata": {},
     "output_type": "execute_result"
    }
   ],
   "source": [
    "df_cleaned = df.copy()\n",
    "df_cleaned.drop(cols_to_remove, axis=1, inplace=True)\n",
    "df_test.drop(cols_to_remove, axis=1, inplace=True, errors='ignore')\n",
    "df_cleaned.head()"
   ]
  },
  {
   "cell_type": "markdown",
   "metadata": {
    "papermill": {
     "duration": 0.099832,
     "end_time": "2020-09-14T22:15:01.735683",
     "exception": false,
     "start_time": "2020-09-14T22:15:01.635851",
     "status": "completed"
    },
    "tags": []
   },
   "source": [
    "# Feature Scaling\n",
    "Do we need to? Let's find out..!!"
   ]
  },
  {
   "cell_type": "code",
   "execution_count": 50,
   "metadata": {
    "execution": {
     "iopub.execute_input": "2020-09-14T22:15:01.943491Z",
     "iopub.status.busy": "2020-09-14T22:15:01.942763Z",
     "iopub.status.idle": "2020-09-14T22:15:01.965629Z",
     "shell.execute_reply": "2020-09-14T22:15:01.966161Z"
    },
    "id": "a4PJBLhc5l9X",
    "papermill": {
     "duration": 0.12829,
     "end_time": "2020-09-14T22:15:01.966305",
     "exception": false,
     "start_time": "2020-09-14T22:15:01.838015",
     "status": "completed"
    },
    "tags": []
   },
   "outputs": [
    {
     "data": {
      "text/html": [
       "<div>\n",
       "<style scoped>\n",
       "    .dataframe tbody tr th:only-of-type {\n",
       "        vertical-align: middle;\n",
       "    }\n",
       "\n",
       "    .dataframe tbody tr th {\n",
       "        vertical-align: top;\n",
       "    }\n",
       "\n",
       "    .dataframe thead th {\n",
       "        text-align: right;\n",
       "    }\n",
       "</style>\n",
       "<table border=\"1\" class=\"dataframe\">\n",
       "  <thead>\n",
       "    <tr style=\"text-align: right;\">\n",
       "      <th></th>\n",
       "      <th>temp</th>\n",
       "      <th>humidity</th>\n",
       "      <th>cnt</th>\n",
       "    </tr>\n",
       "  </thead>\n",
       "  <tbody>\n",
       "    <tr>\n",
       "      <th>count</th>\n",
       "      <td>10212.000000</td>\n",
       "      <td>10212.000000</td>\n",
       "      <td>10212.000000</td>\n",
       "    </tr>\n",
       "    <tr>\n",
       "      <th>mean</th>\n",
       "      <td>19.886526</td>\n",
       "      <td>62.785351</td>\n",
       "      <td>165.837446</td>\n",
       "    </tr>\n",
       "    <tr>\n",
       "      <th>std</th>\n",
       "      <td>7.754532</td>\n",
       "      <td>18.900830</td>\n",
       "      <td>145.386936</td>\n",
       "    </tr>\n",
       "    <tr>\n",
       "      <th>min</th>\n",
       "      <td>0.820000</td>\n",
       "      <td>8.000000</td>\n",
       "      <td>1.000000</td>\n",
       "    </tr>\n",
       "    <tr>\n",
       "      <th>25%</th>\n",
       "      <td>13.940000</td>\n",
       "      <td>48.000000</td>\n",
       "      <td>38.000000</td>\n",
       "    </tr>\n",
       "    <tr>\n",
       "      <th>50%</th>\n",
       "      <td>19.680000</td>\n",
       "      <td>63.000000</td>\n",
       "      <td>133.000000</td>\n",
       "    </tr>\n",
       "    <tr>\n",
       "      <th>75%</th>\n",
       "      <td>26.240000</td>\n",
       "      <td>78.000000</td>\n",
       "      <td>257.000000</td>\n",
       "    </tr>\n",
       "    <tr>\n",
       "      <th>max</th>\n",
       "      <td>41.000000</td>\n",
       "      <td>100.000000</td>\n",
       "      <td>617.000000</td>\n",
       "    </tr>\n",
       "  </tbody>\n",
       "</table>\n",
       "</div>"
      ],
      "text/plain": [
       "               temp      humidity           cnt\n",
       "count  10212.000000  10212.000000  10212.000000\n",
       "mean      19.886526     62.785351    165.837446\n",
       "std        7.754532     18.900830    145.386936\n",
       "min        0.820000      8.000000      1.000000\n",
       "25%       13.940000     48.000000     38.000000\n",
       "50%       19.680000     63.000000    133.000000\n",
       "75%       26.240000     78.000000    257.000000\n",
       "max       41.000000    100.000000    617.000000"
      ]
     },
     "execution_count": 50,
     "metadata": {},
     "output_type": "execute_result"
    }
   ],
   "source": [
    "df_cleaned.describe()"
   ]
  },
  {
   "cell_type": "markdown",
   "metadata": {
    "papermill": {
     "duration": 0.101036,
     "end_time": "2020-09-14T22:15:02.168828",
     "exception": false,
     "start_time": "2020-09-14T22:15:02.067792",
     "status": "completed"
    },
    "tags": []
   },
   "source": [
    "Yes!! Feature scaling is definitely required because we've observed there's linear relationship<br>\n",
    "Hence to try on linear models, we need features to be scaled.<br>\n",
    "There wouldn't have been a need if features would have been in similar ranges but guess God has different plans for us! :("
   ]
  },
  {
   "cell_type": "markdown",
   "metadata": {
    "papermill": {
     "duration": 0.101185,
     "end_time": "2020-09-14T22:15:02.371075",
     "exception": false,
     "start_time": "2020-09-14T22:15:02.269890",
     "status": "completed"
    },
    "tags": []
   },
   "source": [
    "## Log transform for target variable\n",
    "Since it's a lognormal distribution, it's important to transform to near gaussian for linear regression models"
   ]
  },
  {
   "cell_type": "code",
   "execution_count": 51,
   "metadata": {
    "execution": {
     "iopub.execute_input": "2020-09-14T22:15:02.581024Z",
     "iopub.status.busy": "2020-09-14T22:15:02.579814Z",
     "iopub.status.idle": "2020-09-14T22:15:03.451231Z",
     "shell.execute_reply": "2020-09-14T22:15:03.451765Z"
    },
    "papermill": {
     "duration": 0.9802,
     "end_time": "2020-09-14T22:15:03.451911",
     "exception": false,
     "start_time": "2020-09-14T22:15:02.471711",
     "status": "completed"
    },
    "tags": []
   },
   "outputs": [
    {
     "data": {
      "image/png": "[encoded data removed]",
      "text/plain": [
       "<Figure size 1080x432 with 4 Axes>"
      ]
     },
     "metadata": {
      "needs_background": "light"
     },
     "output_type": "display_data"
    }
   ],
   "source": [
    "# transform training data & save lambda value \n",
    "fitted_data, fitted_lambda = stats.boxcox(df_cleaned.cnt)\n",
    "df_cleaned['cnt_box_cox'] = fitted_data\n",
    "df_cleaned['cnt_log'] = np.log(df_cleaned.cnt)\n",
    "#to be used for last step\n",
    "df_cleaned['box_cox_reverse'] = inv_boxcox(fitted_data, fitted_lambda)\n",
    "\n",
    "get_plot_for_numerical(df_cleaned, 3, list_col=['cnt','cnt_box_cox','cnt_log','box_cox_reverse'])"
   ]
  },
  {
   "cell_type": "markdown",
   "metadata": {
    "papermill": {
     "duration": 0.103106,
     "end_time": "2020-09-14T22:15:03.657215",
     "exception": false,
     "start_time": "2020-09-14T22:15:03.554109",
     "status": "completed"
    },
    "tags": []
   },
   "source": [
    "We can see box cox has produced better distribution than simply taking log, due to hyper parameter"
   ]
  },
  {
   "cell_type": "code",
   "execution_count": 52,
   "metadata": {
    "execution": {
     "iopub.execute_input": "2020-09-14T22:15:03.867196Z",
     "iopub.status.busy": "2020-09-14T22:15:03.866493Z",
     "iopub.status.idle": "2020-09-14T22:15:03.875056Z",
     "shell.execute_reply": "2020-09-14T22:15:03.874346Z"
    },
    "papermill": {
     "duration": 0.114125,
     "end_time": "2020-09-14T22:15:03.875172",
     "exception": false,
     "start_time": "2020-09-14T22:15:03.761047",
     "status": "completed"
    },
    "tags": []
   },
   "outputs": [],
   "source": [
    "df_cleaned.drop(['cnt','cnt_log','box_cox_reverse'], axis=1, inplace=True)\n",
    "df_cleaned.rename(columns={'cnt_box_cox':'count_transformed'}, inplace=True)"
   ]
  },
  {
   "cell_type": "markdown",
   "metadata": {
    "papermill": {
     "duration": 0.102294,
     "end_time": "2020-09-14T22:15:04.079723",
     "exception": false,
     "start_time": "2020-09-14T22:15:03.977429",
     "status": "completed"
    },
    "tags": []
   },
   "source": [
    "Moving on to feature Scaling!<br>\n",
    "We're spoilt by choices here too!<br>\n",
    "### The big question!! <b>Normalize or Standardize??</b><br>\n",
    "\n",
    "* Normalization when distribution does not follow a Gaussian distribution. This can be useful in algorithms that do not assume any distribution of the data like K-Nearest Neighbors and Neural Networks.\n",
    "* Standardization, helpful where the data follows a Gaussian distribution. However, this does not have to be necessarily true. Also, unlike normalization, standardization does not have a bounding range. So, even if you have outliers in your data, they will not be affected by standardization.\n",
    "<br>Woah! Ironical!! Normalization is actually for non normal distribution\n",
    "<br> Our distribution is not perfectly normal and it still does contain some outlier. Let's go with standardization."
   ]
  },
  {
   "cell_type": "code",
   "execution_count": 53,
   "metadata": {
    "execution": {
     "iopub.execute_input": "2020-09-14T22:15:04.289901Z",
     "iopub.status.busy": "2020-09-14T22:15:04.288862Z",
     "iopub.status.idle": "2020-09-14T22:15:04.292631Z",
     "shell.execute_reply": "2020-09-14T22:15:04.291977Z"
    },
    "papermill": {
     "duration": 0.110994,
     "end_time": "2020-09-14T22:15:04.292746",
     "exception": false,
     "start_time": "2020-09-14T22:15:04.181752",
     "status": "completed"
    },
    "tags": []
   },
   "outputs": [],
   "source": [
    "sc = StandardScaler()"
   ]
  },
  {
   "cell_type": "markdown",
   "metadata": {
    "papermill": {
     "duration": 0.10514,
     "end_time": "2020-09-14T22:15:04.502653",
     "exception": false,
     "start_time": "2020-09-14T22:15:04.397513",
     "status": "completed"
    },
    "tags": []
   },
   "source": [
    "Hold on!! <b>First Split, then Normalize!!!</b>\n",
    "<br> Here's why!<br>\n",
    "    You first need to split the data into training and test set (validation set could be useful too).\n",
    "<br>\n",
    "Don't forget that testing data points represent real-world data. Feature normalization (or data standardization) of the explanatory (or predictor) variables is a technique used to center and normalise the data by subtracting the mean and dividing by the variance. If you take the mean and variance of the whole dataset you'll be introducing future information into the training explanatory variables (i.e. the mean and variance).\n",
    "<br>\n",
    "Therefore, you should perform feature normalisation over the training data. Then perform normalisation on testing instances as well, but this time using the mean and variance of training explanatory variables. In this way, we can test and evaluate whether our model can generalize well to new, unseen data points."
   ]
  },
  {
   "cell_type": "code",
   "execution_count": 54,
   "metadata": {
    "execution": {
     "iopub.execute_input": "2020-09-14T22:15:04.715496Z",
     "iopub.status.busy": "2020-09-14T22:15:04.714754Z",
     "iopub.status.idle": "2020-09-14T22:15:04.726289Z",
     "shell.execute_reply": "2020-09-14T22:15:04.725731Z"
    },
    "papermill": {
     "duration": 0.11917,
     "end_time": "2020-09-14T22:15:04.726413",
     "exception": false,
     "start_time": "2020-09-14T22:15:04.607243",
     "status": "completed"
    },
    "tags": []
   },
   "outputs": [],
   "source": [
    "target = 'count_transformed'\n",
    "X = df_cleaned.drop(target, axis=1)\n",
    "y = df_cleaned[target]\n",
    "seed=23\n",
    "X_train, X_test, y_train, y_test = split(X, y, test_size=.3, random_state=seed)"
   ]
  },
  {
   "cell_type": "code",
   "execution_count": 55,
   "metadata": {
    "execution": {
     "iopub.execute_input": "2020-09-14T22:15:04.943896Z",
     "iopub.status.busy": "2020-09-14T22:15:04.943142Z",
     "iopub.status.idle": "2020-09-14T22:15:04.975805Z",
     "shell.execute_reply": "2020-09-14T22:15:04.975149Z"
    },
    "papermill": {
     "duration": 0.145304,
     "end_time": "2020-09-14T22:15:04.975937",
     "exception": false,
     "start_time": "2020-09-14T22:15:04.830633",
     "status": "completed"
    },
    "tags": []
   },
   "outputs": [],
   "source": [
    "X_train = sc.fit_transform(X_train)\n",
    "X_test = sc.fit_transform(X_test)"
   ]
  },
  {
   "cell_type": "markdown",
   "metadata": {
    "papermill": {
     "duration": 0.10414,
     "end_time": "2020-09-14T22:15:05.184503",
     "exception": false,
     "start_time": "2020-09-14T22:15:05.080363",
     "status": "completed"
    },
    "tags": []
   },
   "source": [
    "# Fitting the Models"
   ]
  },
  {
   "cell_type": "markdown",
   "metadata": {
    "papermill": {
     "duration": 0.104813,
     "end_time": "2020-09-14T22:15:05.393809",
     "exception": false,
     "start_time": "2020-09-14T22:15:05.288996",
     "status": "completed"
    },
    "tags": []
   },
   "source": [
    "Starting with the basics!\n",
    "## Linear Regression Model"
   ]
  },
  {
   "cell_type": "code",
   "execution_count": 56,
   "metadata": {
    "execution": {
     "iopub.execute_input": "2020-09-14T22:15:05.614917Z",
     "iopub.status.busy": "2020-09-14T22:15:05.614182Z",
     "iopub.status.idle": "2020-09-14T22:15:05.703015Z",
     "shell.execute_reply": "2020-09-14T22:15:05.703630Z"
    },
    "papermill": {
     "duration": 0.202282,
     "end_time": "2020-09-14T22:15:05.703782",
     "exception": false,
     "start_time": "2020-09-14T22:15:05.501500",
     "status": "completed"
    },
    "tags": []
   },
   "outputs": [
    {
     "name": "stdout",
     "output_type": "stream",
     "text": [
      "RMSLE for test:  0.998572739560256\n",
      "RMSLE for train:  1.0178349170195689\n"
     ]
    }
   ],
   "source": [
    "from sklearn.linear_model import LinearRegression,Ridge,Lasso\n",
    "from sklearn.model_selection import GridSearchCV, RandomizedSearchCV\n",
    "from sklearn.metrics import mean_squared_error as mse\n",
    "from sklearn import metrics\n",
    "\n",
    "# Initialize logistic regression model\n",
    "lr = LinearRegression()\n",
    "\n",
    "# Train the model\n",
    "lr.fit(X_train,y = y_train)\n",
    "\n",
    "# Make predictions\n",
    "y_pred = lr.predict(X_test)\n",
    "\n",
    "y_pred_train = lr.predict(X_train)\n",
    "\n",
    "print('RMSLE for test: ',rmsle(y_test, y_pred, True))\n",
    "print('RMSLE for train: ',rmsle(y_train, y_pred_train, True))"
   ]
  },
  {
   "cell_type": "code",
   "execution_count": 57,
   "metadata": {
    "execution": {
     "iopub.execute_input": "2020-09-14T22:15:05.919156Z",
     "iopub.status.busy": "2020-09-14T22:15:05.918142Z",
     "iopub.status.idle": "2020-09-14T22:15:05.928490Z",
     "shell.execute_reply": "2020-09-14T22:15:05.928955Z"
    },
    "papermill": {
     "duration": 0.119809,
     "end_time": "2020-09-14T22:15:05.929102",
     "exception": false,
     "start_time": "2020-09-14T22:15:05.809293",
     "status": "completed"
    },
    "tags": []
   },
   "outputs": [
    {
     "data": {
      "text/html": [
       "<div>\n",
       "<style scoped>\n",
       "    .dataframe tbody tr th:only-of-type {\n",
       "        vertical-align: middle;\n",
       "    }\n",
       "\n",
       "    .dataframe tbody tr th {\n",
       "        vertical-align: top;\n",
       "    }\n",
       "\n",
       "    .dataframe thead th {\n",
       "        text-align: right;\n",
       "    }\n",
       "</style>\n",
       "<table border=\"1\" class=\"dataframe\">\n",
       "  <thead>\n",
       "    <tr style=\"text-align: right;\">\n",
       "      <th></th>\n",
       "      <th>Coefficient</th>\n",
       "    </tr>\n",
       "  </thead>\n",
       "  <tbody>\n",
       "    <tr>\n",
       "      <th>workingday</th>\n",
       "      <td>-0.032395</td>\n",
       "    </tr>\n",
       "    <tr>\n",
       "      <th>temp</th>\n",
       "      <td>1.680904</td>\n",
       "    </tr>\n",
       "    <tr>\n",
       "      <th>humidity</th>\n",
       "      <td>-1.432221</td>\n",
       "    </tr>\n",
       "    <tr>\n",
       "      <th>yr</th>\n",
       "      <td>0.859433</td>\n",
       "    </tr>\n",
       "    <tr>\n",
       "      <th>hr</th>\n",
       "      <td>2.898253</td>\n",
       "    </tr>\n",
       "    <tr>\n",
       "      <th>mnth</th>\n",
       "      <td>0.972177</td>\n",
       "    </tr>\n",
       "  </tbody>\n",
       "</table>\n",
       "</div>"
      ],
      "text/plain": [
       "            Coefficient\n",
       "workingday    -0.032395\n",
       "temp           1.680904\n",
       "humidity      -1.432221\n",
       "yr             0.859433\n",
       "hr             2.898253\n",
       "mnth           0.972177"
      ]
     },
     "execution_count": 57,
     "metadata": {},
     "output_type": "execute_result"
    }
   ],
   "source": [
    "coeff_df = pd.DataFrame(lr.coef_, X.columns, columns=['Coefficient'])  \n",
    "coeff_df"
   ]
  },
  {
   "cell_type": "code",
   "execution_count": 58,
   "metadata": {
    "execution": {
     "iopub.execute_input": "2020-09-14T22:15:06.142963Z",
     "iopub.status.busy": "2020-09-14T22:15:06.141717Z",
     "iopub.status.idle": "2020-09-14T22:15:06.776966Z",
     "shell.execute_reply": "2020-09-14T22:15:06.776365Z"
    },
    "papermill": {
     "duration": 0.743472,
     "end_time": "2020-09-14T22:15:06.777100",
     "exception": false,
     "start_time": "2020-09-14T22:15:06.033628",
     "status": "completed"
    },
    "tags": []
   },
   "outputs": [
    {
     "data": {
      "image/png": "[encoded data removed]",
      "text/plain": [
       "<Figure size 720x360 with 2 Axes>"
      ]
     },
     "metadata": {
      "needs_background": "light"
     },
     "output_type": "display_data"
    }
   ],
   "source": [
    "plot_prediction(y_test, y_pred, y_train, y_pred_train, True)"
   ]
  },
  {
   "cell_type": "markdown",
   "metadata": {
    "papermill": {
     "duration": 0.10563,
     "end_time": "2020-09-14T22:15:06.992607",
     "exception": false,
     "start_time": "2020-09-14T22:15:06.886977",
     "status": "completed"
    },
    "tags": []
   },
   "source": [
    "## Regularizing Linear Regression"
   ]
  },
  {
   "cell_type": "code",
   "execution_count": 59,
   "metadata": {
    "execution": {
     "iopub.execute_input": "2020-09-14T22:15:07.221829Z",
     "iopub.status.busy": "2020-09-14T22:15:07.221054Z",
     "iopub.status.idle": "2020-09-14T22:15:07.832441Z",
     "shell.execute_reply": "2020-09-14T22:15:07.832947Z"
    },
    "papermill": {
     "duration": 0.728482,
     "end_time": "2020-09-14T22:15:07.833103",
     "exception": false,
     "start_time": "2020-09-14T22:15:07.104621",
     "status": "completed"
    },
    "tags": []
   },
   "outputs": [
    {
     "name": "stdout",
     "output_type": "stream",
     "text": [
      "Grid Ridge Best Params:  {'alpha': 0.03, 'max_iter': 3000}\n",
      "RMSLE for test:  0.9985729962538495\n",
      "RMSLE for train:  1.0178354304286803\n"
     ]
    }
   ],
   "source": [
    "ridge = Ridge()\n",
    "ridge_param = {'max_iter':[3000], 'alpha':[.1,.03,.3,1,3,10, 30, 100,300]}\n",
    "rmsle_scorer = metrics.make_scorer(rmsle, greater_is_better=False)\n",
    "grid_ridge = GridSearchCV(ridge,\n",
    "                           ridge_param,\n",
    "                           scoring = rmsle_scorer,\n",
    "                           cv = 10)\n",
    "grid_ridge.fit(X_train, y_train)\n",
    "y_pred_ridge = grid_ridge.predict(X_test)\n",
    "y_pred_ridge_train = grid_ridge.predict(X_train)\n",
    "print('Grid Ridge Best Params: ', grid_ridge.best_params_)\n",
    "print('RMSLE for test: ',rmsle(y_test, y_pred_ridge, True))\n",
    "print('RMSLE for train: ',rmsle(y_train, y_pred_ridge_train, True))"
   ]
  },
  {
   "cell_type": "code",
   "execution_count": 60,
   "metadata": {
    "execution": {
     "iopub.execute_input": "2020-09-14T22:15:08.051296Z",
     "iopub.status.busy": "2020-09-14T22:15:08.050329Z",
     "iopub.status.idle": "2020-09-14T22:15:08.220349Z",
     "shell.execute_reply": "2020-09-14T22:15:08.220932Z"
    },
    "papermill": {
     "duration": 0.280986,
     "end_time": "2020-09-14T22:15:08.221074",
     "exception": false,
     "start_time": "2020-09-14T22:15:07.940088",
     "status": "completed"
    },
    "tags": []
   },
   "outputs": [
    {
     "data": {
      "text/plain": [
       "<matplotlib.axes._subplots.AxesSubplot at 0x7f3f804de490>"
      ]
     },
     "execution_count": 60,
     "metadata": {},
     "output_type": "execute_result"
    },
    {
     "data": {
      "image/png": "[encoded data removed]",
      "text/plain": [
       "<Figure size 864x360 with 1 Axes>"
      ]
     },
     "metadata": {
      "needs_background": "light"
     },
     "output_type": "display_data"
    }
   ],
   "source": [
    "fig,ax= plt.subplots()\n",
    "fig.set_size_inches(12,5)\n",
    "df = pd.DataFrame(grid_ridge.cv_results_)\n",
    "df[\"alpha\"] = df[\"params\"].apply(lambda x:x[\"alpha\"])\n",
    "df[\"rmsle\"] = df[\"mean_test_score\"].apply(lambda x:-x)\n",
    "sns.pointplot(data=df,x=\"alpha\",y=\"rmsle\",ax=ax)"
   ]
  },
  {
   "cell_type": "code",
   "execution_count": 61,
   "metadata": {
    "execution": {
     "iopub.execute_input": "2020-09-14T22:15:08.441286Z",
     "iopub.status.busy": "2020-09-14T22:15:08.440254Z",
     "iopub.status.idle": "2020-09-14T22:15:08.957075Z",
     "shell.execute_reply": "2020-09-14T22:15:08.957689Z"
    },
    "papermill": {
     "duration": 0.62946,
     "end_time": "2020-09-14T22:15:08.957836",
     "exception": false,
     "start_time": "2020-09-14T22:15:08.328376",
     "status": "completed"
    },
    "tags": []
   },
   "outputs": [
    {
     "data": {
      "image/png": "[encoded data removed]",
      "text/plain": [
       "<Figure size 720x360 with 2 Axes>"
      ]
     },
     "metadata": {
      "needs_background": "light"
     },
     "output_type": "display_data"
    }
   ],
   "source": [
    "plot_prediction(y_test, y_pred_ridge, y_train, y_pred_ridge_train, True)"
   ]
  },
  {
   "cell_type": "markdown",
   "metadata": {
    "papermill": {
     "duration": 0.110432,
     "end_time": "2020-09-14T22:15:09.178398",
     "exception": false,
     "start_time": "2020-09-14T22:15:09.067966",
     "status": "completed"
    },
    "tags": []
   },
   "source": [
    "### Lasso Regression"
   ]
  },
  {
   "cell_type": "code",
   "execution_count": 62,
   "metadata": {
    "execution": {
     "iopub.execute_input": "2020-09-14T22:15:09.402707Z",
     "iopub.status.busy": "2020-09-14T22:15:09.401969Z",
     "iopub.status.idle": "2020-09-14T22:15:10.104541Z",
     "shell.execute_reply": "2020-09-14T22:15:10.105314Z"
    },
    "papermill": {
     "duration": 0.816568,
     "end_time": "2020-09-14T22:15:10.105545",
     "exception": false,
     "start_time": "2020-09-14T22:15:09.288977",
     "status": "completed"
    },
    "tags": []
   },
   "outputs": [
    {
     "name": "stdout",
     "output_type": "stream",
     "text": [
      "Random Lasso Best Params:  {'max_iter': 3000, 'alpha': 0.001}\n",
      "RMSLE for test:  0.9985825557822441\n",
      "RMSLE for train:  1.017881896254066\n"
     ]
    }
   ],
   "source": [
    "lasso = Lasso()\n",
    "alpha = 1/np.array([.1,.03,.3,1,3,10, 30, 100,300,1000])\n",
    "lasso_param = {'max_iter':[3000], 'alpha':alpha}\n",
    "rmsle_scorer = metrics.make_scorer(rmsle, greater_is_better=False)\n",
    "random_lasso = RandomizedSearchCV(lasso,\n",
    "                           lasso_param,\n",
    "                           scoring = rmsle_scorer,\n",
    "                           cv = 10)\n",
    "random_lasso.fit(X_train, y_train)\n",
    "y_pred_lasso = random_lasso.predict(X_test)\n",
    "y_pred_lasso_train = random_lasso.predict(X_train)\n",
    "print('Random Lasso Best Params: ', random_lasso.best_params_)\n",
    "print('RMSLE for test: ',rmsle(y_test, y_pred_lasso, True))\n",
    "print('RMSLE for train: ',rmsle(y_train, y_pred_lasso_train, True))"
   ]
  },
  {
   "cell_type": "code",
   "execution_count": 63,
   "metadata": {
    "execution": {
     "iopub.execute_input": "2020-09-14T22:15:10.329903Z",
     "iopub.status.busy": "2020-09-14T22:15:10.329177Z",
     "iopub.status.idle": "2020-09-14T22:15:10.519454Z",
     "shell.execute_reply": "2020-09-14T22:15:10.519987Z"
    },
    "papermill": {
     "duration": 0.303323,
     "end_time": "2020-09-14T22:15:10.520141",
     "exception": false,
     "start_time": "2020-09-14T22:15:10.216818",
     "status": "completed"
    },
    "tags": []
   },
   "outputs": [
    {
     "data": {
      "text/plain": [
       "<matplotlib.axes._subplots.AxesSubplot at 0x7f3f670914d0>"
      ]
     },
     "execution_count": 63,
     "metadata": {},
     "output_type": "execute_result"
    },
    {
     "data": {
      "image/png": "[encoded data removed]",
      "text/plain": [
       "<Figure size 864x360 with 1 Axes>"
      ]
     },
     "metadata": {
      "needs_background": "light"
     },
     "output_type": "display_data"
    }
   ],
   "source": [
    "fig,ax= plt.subplots()\n",
    "fig.set_size_inches(12,5)\n",
    "df = pd.DataFrame(random_lasso.cv_results_)\n",
    "df[\"alpha\"] = df[\"params\"].apply(lambda x:x[\"alpha\"])\n",
    "df[\"rmsle\"] = df[\"mean_test_score\"].apply(lambda x:-x)\n",
    "sns.pointplot(data=df,x=\"alpha\",y=\"rmsle\",ax=ax)"
   ]
  },
  {
   "cell_type": "code",
   "execution_count": 64,
   "metadata": {
    "execution": {
     "iopub.execute_input": "2020-09-14T22:15:10.749057Z",
     "iopub.status.busy": "2020-09-14T22:15:10.748378Z",
     "iopub.status.idle": "2020-09-14T22:15:11.262636Z",
     "shell.execute_reply": "2020-09-14T22:15:11.263157Z"
    },
    "papermill": {
     "duration": 0.629837,
     "end_time": "2020-09-14T22:15:11.263319",
     "exception": false,
     "start_time": "2020-09-14T22:15:10.633482",
     "status": "completed"
    },
    "tags": []
   },
   "outputs": [
    {
     "data": {
      "image/png": "[encoded data removed]",
      "text/plain": [
       "<Figure size 720x360 with 2 Axes>"
      ]
     },
     "metadata": {
      "needs_background": "light"
     },
     "output_type": "display_data"
    }
   ],
   "source": [
    "plot_prediction(y_test, y_pred_lasso, y_train, y_pred_lasso_train, True)"
   ]
  },
  {
   "cell_type": "code",
   "execution_count": 65,
   "metadata": {
    "execution": {
     "iopub.execute_input": "2020-09-14T22:15:11.495344Z",
     "iopub.status.busy": "2020-09-14T22:15:11.494691Z",
     "iopub.status.idle": "2020-09-14T22:15:11.579385Z",
     "shell.execute_reply": "2020-09-14T22:15:11.578767Z"
    },
    "papermill": {
     "duration": 0.201815,
     "end_time": "2020-09-14T22:15:11.579524",
     "exception": false,
     "start_time": "2020-09-14T22:15:11.377709",
     "status": "completed"
    },
    "tags": []
   },
   "outputs": [
    {
     "name": "stdout",
     "output_type": "stream",
     "text": [
      "RMSLE for test:  0.4762426563579512\n",
      "RMSLE for train:  0.05591386220370898\n"
     ]
    }
   ],
   "source": [
    "from sklearn.tree import DecisionTreeRegressor as dt\n",
    "dt_m = dt(random_state=0)\n",
    "dt_m.fit(X_train,y_train)\n",
    "y_pred_dt=dt_m.predict(X_test)\n",
    "y_pred_dt_train=dt_m.predict(X_train)\n",
    "print('RMSLE for test: ',rmsle(y_test, y_pred_dt, True))\n",
    "print('RMSLE for train: ',rmsle(y_train, y_pred_dt_train, True))"
   ]
  },
  {
   "cell_type": "code",
   "execution_count": 66,
   "metadata": {
    "execution": {
     "iopub.execute_input": "2020-09-14T22:15:11.812095Z",
     "iopub.status.busy": "2020-09-14T22:15:11.811404Z",
     "iopub.status.idle": "2020-09-14T22:15:12.476875Z",
     "shell.execute_reply": "2020-09-14T22:15:12.477415Z"
    },
    "papermill": {
     "duration": 0.784638,
     "end_time": "2020-09-14T22:15:12.477592",
     "exception": false,
     "start_time": "2020-09-14T22:15:11.692954",
     "status": "completed"
    },
    "tags": []
   },
   "outputs": [
    {
     "data": {
      "image/png": "[encoded data removed]",
      "text/plain": [
       "<Figure size 720x360 with 2 Axes>"
      ]
     },
     "metadata": {
      "needs_background": "light"
     },
     "output_type": "display_data"
    }
   ],
   "source": [
    "plot_prediction(y_test, y_pred_dt, y_train, y_pred_dt_train, True)"
   ]
  },
  {
   "cell_type": "markdown",
   "metadata": {
    "papermill": {
     "duration": 0.113982,
     "end_time": "2020-09-14T22:15:12.708703",
     "exception": false,
     "start_time": "2020-09-14T22:15:12.594721",
     "status": "completed"
    },
    "tags": []
   },
   "source": [
    "RMSLE value for train and the plot above suggests it has overfit."
   ]
  },
  {
   "cell_type": "markdown",
   "metadata": {
    "papermill": {
     "duration": 0.116061,
     "end_time": "2020-09-14T22:15:12.939796",
     "exception": false,
     "start_time": "2020-09-14T22:15:12.823735",
     "status": "completed"
    },
    "tags": []
   },
   "source": [
    "### Random Forest Regressor"
   ]
  },
  {
   "cell_type": "code",
   "execution_count": 67,
   "metadata": {
    "execution": {
     "iopub.execute_input": "2020-09-14T22:15:13.184408Z",
     "iopub.status.busy": "2020-09-14T22:15:13.178225Z",
     "iopub.status.idle": "2020-09-14T22:15:15.184166Z",
     "shell.execute_reply": "2020-09-14T22:15:15.184810Z"
    },
    "papermill": {
     "duration": 2.129394,
     "end_time": "2020-09-14T22:15:15.184980",
     "exception": false,
     "start_time": "2020-09-14T22:15:13.055586",
     "status": "completed"
    },
    "tags": []
   },
   "outputs": [
    {
     "name": "stdout",
     "output_type": "stream",
     "text": [
      "RMSLE for test:  0.35374022283974266\n",
      "RMSLE for train:  0.14736934379515668\n"
     ]
    }
   ],
   "source": [
    "from sklearn.ensemble import RandomForestRegressor as rfr\n",
    "rf = rfr(n_estimators=100)\n",
    "rf.fit(X_train, y_train)\n",
    "y_pred_rf = rf.predict(X_test)\n",
    "y_pred_rf_train = rf.predict(X_train)\n",
    "print('RMSLE for test: ',rmsle(y_test, y_pred_rf, True))\n",
    "print('RMSLE for train: ',rmsle(y_train, y_pred_rf_train, True))"
   ]
  },
  {
   "cell_type": "code",
   "execution_count": 68,
   "metadata": {
    "execution": {
     "iopub.execute_input": "2020-09-14T22:15:15.423974Z",
     "iopub.status.busy": "2020-09-14T22:15:15.423285Z",
     "iopub.status.idle": "2020-09-14T22:15:15.931084Z",
     "shell.execute_reply": "2020-09-14T22:15:15.931609Z"
    },
    "papermill": {
     "duration": 0.629029,
     "end_time": "2020-09-14T22:15:15.931762",
     "exception": false,
     "start_time": "2020-09-14T22:15:15.302733",
     "status": "completed"
    },
    "tags": []
   },
   "outputs": [
    {
     "data": {
      "image/png": "[encoded data removed]",
      "text/plain": [
       "<Figure size 720x360 with 2 Axes>"
      ]
     },
     "metadata": {
      "needs_background": "light"
     },
     "output_type": "display_data"
    }
   ],
   "source": [
    "plot_prediction(y_test, y_pred_rf, y_train, y_pred_rf_train, True)"
   ]
  },
  {
   "cell_type": "code",
   "execution_count": 69,
   "metadata": {
    "execution": {
     "iopub.execute_input": "2020-09-14T22:15:16.173259Z",
     "iopub.status.busy": "2020-09-14T22:15:16.172611Z",
     "iopub.status.idle": "2020-09-14T22:15:30.783311Z",
     "shell.execute_reply": "2020-09-14T22:15:30.782554Z"
    },
    "papermill": {
     "duration": 14.733096,
     "end_time": "2020-09-14T22:15:30.783429",
     "exception": false,
     "start_time": "2020-09-14T22:15:16.050333",
     "status": "completed"
    },
    "tags": []
   },
   "outputs": [
    {
     "name": "stdout",
     "output_type": "stream",
     "text": [
      "RMSLE for test:  0.34931866449177434\n",
      "RMSLE for train:  0.278449029335745\n"
     ]
    }
   ],
   "source": [
    "from sklearn.ensemble import GradientBoostingRegressor\n",
    "gbm = GradientBoostingRegressor(n_estimators=3000,alpha=.03)\n",
    "gbm.fit(X_train,y_train)\n",
    "y_pred_gbm = gbm.predict(X_test)\n",
    "y_pred_gbm_train = gbm.predict(X_train)\n",
    "print('RMSLE for test: ',rmsle(y_test, y_pred_gbm, True))\n",
    "print('RMSLE for train: ',rmsle(y_train, y_pred_gbm_train, True))"
   ]
  },
  {
   "cell_type": "code",
   "execution_count": 70,
   "metadata": {
    "execution": {
     "iopub.execute_input": "2020-09-14T22:15:31.027607Z",
     "iopub.status.busy": "2020-09-14T22:15:31.026630Z",
     "iopub.status.idle": "2020-09-14T22:15:31.591523Z",
     "shell.execute_reply": "2020-09-14T22:15:31.590980Z"
    },
    "papermill": {
     "duration": 0.687751,
     "end_time": "2020-09-14T22:15:31.591671",
     "exception": false,
     "start_time": "2020-09-14T22:15:30.903920",
     "status": "completed"
    },
    "tags": []
   },
   "outputs": [
    {
     "data": {
      "image/png": "[encoded data removed]",
      "text/plain": [
       "<Figure size 720x360 with 2 Axes>"
      ]
     },
     "metadata": {
      "needs_background": "light"
     },
     "output_type": "display_data"
    }
   ],
   "source": [
    "plot_prediction(y_test, y_pred_gbm, y_train, y_pred_gbm_train, True)"
   ]
  },
  {
   "cell_type": "markdown",
   "metadata": {
    "papermill": {
     "duration": 0.118676,
     "end_time": "2020-09-14T22:15:31.831437",
     "exception": false,
     "start_time": "2020-09-14T22:15:31.712761",
     "status": "completed"
    },
    "tags": []
   },
   "source": [
    "## The final Verdict!!\n",
    "1. Linear Regression and even the type 1 and type 2 regularizations are not pretty good at predicting. \n",
    "2. Decision Tree performed moderately but since there was no pruning, hence it was overfitting the data.\n",
    "\n",
    "### The 2 finalists are....\n",
    "Random Forest and XGBoost.. well the competition was really close!<br>\n",
    "Both performed equally well on test (validation data)\n",
    "But the tie break was the train score!!\n",
    "## And the winner is... (drumrolls..) \"XGBoost\"\n",
    "Well <strike>not because it scored better for test</strike> but because it performed relatively poorer on training set because that is what we want for model to over fit!"
   ]
  },
  {
   "cell_type": "code",
   "execution_count": 71,
   "metadata": {
    "execution": {
     "iopub.execute_input": "2020-09-14T22:15:32.077575Z",
     "iopub.status.busy": "2020-09-14T22:15:32.076598Z",
     "iopub.status.idle": "2020-09-14T22:15:32.270560Z",
     "shell.execute_reply": "2020-09-14T22:15:32.269851Z"
    },
    "papermill": {
     "duration": 0.320436,
     "end_time": "2020-09-14T22:15:32.270678",
     "exception": false,
     "start_time": "2020-09-14T22:15:31.950242",
     "status": "completed"
    },
    "tags": []
   },
   "outputs": [],
   "source": [
    "df_test = df_test.sort_values(by='datetime')\n",
    "datetime_series = df_test.datetime\n",
    "df_test_for_model = df_test.copy()\n",
    "df_test_for_model.drop(['datetime'], inplace=True, axis=1)\n",
    "X_test_ndarry = df_test_for_model.to_numpy()\n",
    "final_X_test = sc.fit_transform(X_test_ndarry)\n",
    "final_y_pred = inv_boxcox(gbm.predict(final_X_test), fitted_lambda)"
   ]
  },
  {
   "cell_type": "code",
   "execution_count": 72,
   "metadata": {
    "execution": {
     "iopub.execute_input": "2020-09-14T22:15:32.517224Z",
     "iopub.status.busy": "2020-09-14T22:15:32.516171Z",
     "iopub.status.idle": "2020-09-14T22:15:32.639503Z",
     "shell.execute_reply": "2020-09-14T22:15:32.638899Z"
    },
    "papermill": {
     "duration": 0.249637,
     "end_time": "2020-09-14T22:15:32.639620",
     "exception": false,
     "start_time": "2020-09-14T22:15:32.389983",
     "status": "completed"
    },
    "tags": []
   },
   "outputs": [],
   "source": [
    "final_y_pred_rf = inv_boxcox(rf.predict(final_X_test), fitted_lambda)"
   ]
  },
  {
   "cell_type": "code",
   "execution_count": 73,
   "metadata": {
    "execution": {
     "iopub.execute_input": "2020-09-14T22:15:32.883439Z",
     "iopub.status.busy": "2020-09-14T22:15:32.882439Z",
     "iopub.status.idle": "2020-09-14T22:15:32.887417Z",
     "shell.execute_reply": "2020-09-14T22:15:32.886310Z"
    },
    "papermill": {
     "duration": 0.130017,
     "end_time": "2020-09-14T22:15:32.887558",
     "exception": false,
     "start_time": "2020-09-14T22:15:32.757541",
     "status": "completed"
    },
    "tags": []
   },
   "outputs": [
    {
     "data": {
      "text/plain": [
       "((6493,), (6493,))"
      ]
     },
     "execution_count": 73,
     "metadata": {},
     "output_type": "execute_result"
    }
   ],
   "source": [
    "final_y_pred.shape, datetime_series.shape"
   ]
  },
  {
   "cell_type": "code",
   "execution_count": 74,
   "metadata": {
    "execution": {
     "iopub.execute_input": "2020-09-14T22:15:33.133383Z",
     "iopub.status.busy": "2020-09-14T22:15:33.132716Z",
     "iopub.status.idle": "2020-09-14T22:15:33.136230Z",
     "shell.execute_reply": "2020-09-14T22:15:33.135728Z"
    },
    "papermill": {
     "duration": 0.129549,
     "end_time": "2020-09-14T22:15:33.136353",
     "exception": false,
     "start_time": "2020-09-14T22:15:33.006804",
     "status": "completed"
    },
    "tags": []
   },
   "outputs": [],
   "source": [
    "submission = pd.DataFrame({'datetime':datetime_series, 'count':np.round(final_y_pred)})"
   ]
  },
  {
   "cell_type": "code",
   "execution_count": 75,
   "metadata": {
    "execution": {
     "iopub.execute_input": "2020-09-14T22:15:33.383924Z",
     "iopub.status.busy": "2020-09-14T22:15:33.382846Z",
     "iopub.status.idle": "2020-09-14T22:15:33.385600Z",
     "shell.execute_reply": "2020-09-14T22:15:33.384960Z"
    },
    "papermill": {
     "duration": 0.129264,
     "end_time": "2020-09-14T22:15:33.385709",
     "exception": false,
     "start_time": "2020-09-14T22:15:33.256445",
     "status": "completed"
    },
    "tags": []
   },
   "outputs": [],
   "source": [
    "submission_rf = pd.DataFrame({'datetime':datetime_series, 'count':final_y_pred_rf})"
   ]
  },
  {
   "cell_type": "code",
   "execution_count": 76,
   "metadata": {
    "execution": {
     "iopub.execute_input": "2020-09-14T22:15:33.640185Z",
     "iopub.status.busy": "2020-09-14T22:15:33.639372Z",
     "iopub.status.idle": "2020-09-14T22:15:33.644291Z",
     "shell.execute_reply": "2020-09-14T22:15:33.643658Z"
    },
    "papermill": {
     "duration": 0.135561,
     "end_time": "2020-09-14T22:15:33.644413",
     "exception": false,
     "start_time": "2020-09-14T22:15:33.508852",
     "status": "completed"
    },
    "tags": []
   },
   "outputs": [
    {
     "data": {
      "text/html": [
       "<div>\n",
       "<style scoped>\n",
       "    .dataframe tbody tr th:only-of-type {\n",
       "        vertical-align: middle;\n",
       "    }\n",
       "\n",
       "    .dataframe tbody tr th {\n",
       "        vertical-align: top;\n",
       "    }\n",
       "\n",
       "    .dataframe thead th {\n",
       "        text-align: right;\n",
       "    }\n",
       "</style>\n",
       "<table border=\"1\" class=\"dataframe\">\n",
       "  <thead>\n",
       "    <tr style=\"text-align: right;\">\n",
       "      <th></th>\n",
       "      <th>datetime</th>\n",
       "      <th>count</th>\n",
       "    </tr>\n",
       "  </thead>\n",
       "  <tbody>\n",
       "    <tr>\n",
       "      <th>0</th>\n",
       "      <td>2011-01-20 00:00:00</td>\n",
       "      <td>11.0</td>\n",
       "    </tr>\n",
       "    <tr>\n",
       "      <th>1</th>\n",
       "      <td>2011-01-20 01:00:00</td>\n",
       "      <td>5.0</td>\n",
       "    </tr>\n",
       "    <tr>\n",
       "      <th>2</th>\n",
       "      <td>2011-01-20 02:00:00</td>\n",
       "      <td>3.0</td>\n",
       "    </tr>\n",
       "    <tr>\n",
       "      <th>3</th>\n",
       "      <td>2011-01-20 03:00:00</td>\n",
       "      <td>2.0</td>\n",
       "    </tr>\n",
       "    <tr>\n",
       "      <th>4</th>\n",
       "      <td>2011-01-20 04:00:00</td>\n",
       "      <td>2.0</td>\n",
       "    </tr>\n",
       "  </tbody>\n",
       "</table>\n",
       "</div>"
      ],
      "text/plain": [
       "              datetime  count\n",
       "0  2011-01-20 00:00:00   11.0\n",
       "1  2011-01-20 01:00:00    5.0\n",
       "2  2011-01-20 02:00:00    3.0\n",
       "3  2011-01-20 03:00:00    2.0\n",
       "4  2011-01-20 04:00:00    2.0"
      ]
     },
     "execution_count": 76,
     "metadata": {},
     "output_type": "execute_result"
    }
   ],
   "source": [
    "submission.head()"
   ]
  },
  {
   "cell_type": "code",
   "execution_count": 77,
   "metadata": {
    "execution": {
     "iopub.execute_input": "2020-09-14T22:15:33.899140Z",
     "iopub.status.busy": "2020-09-14T22:15:33.898098Z",
     "iopub.status.idle": "2020-09-14T22:15:34.116952Z",
     "shell.execute_reply": "2020-09-14T22:15:34.116377Z"
    },
    "papermill": {
     "duration": 0.352491,
     "end_time": "2020-09-14T22:15:34.117078",
     "exception": false,
     "start_time": "2020-09-14T22:15:33.764587",
     "status": "completed"
    },
    "tags": []
   },
   "outputs": [
    {
     "data": {
      "text/plain": [
       "<matplotlib.axes._subplots.AxesSubplot at 0x7f3f664ba590>"
      ]
     },
     "execution_count": 77,
     "metadata": {},
     "output_type": "execute_result"
    },
    {
     "data": {
      "image/png": "[encoded data removed]",
      "text/plain": [
       "<Figure size 432x288 with 1 Axes>"
      ]
     },
     "metadata": {
      "needs_background": "light"
     },
     "output_type": "display_data"
    }
   ],
   "source": [
    "sns.distplot(final_y_pred, hist=True, kde=True, \n",
    "             color = 'darkblue', \n",
    "             hist_kws={'edgecolor':'black'},\n",
    "             kde_kws={'linewidth': 4})"
   ]
  },
  {
   "cell_type": "markdown",
   "metadata": {
    "papermill": {
     "duration": 0.161169,
     "end_time": "2020-09-14T22:15:34.405857",
     "exception": false,
     "start_time": "2020-09-14T22:15:34.244688",
     "status": "completed"
    },
    "tags": []
   },
   "source": [
    "Seems pretty similar to original distribution!!\n",
    "** Fingers Crossed! Let's go ahead and submit!! "
   ]
  },
  {
   "cell_type": "code",
   "execution_count": 78,
   "metadata": {
    "execution": {
     "iopub.execute_input": "2020-09-14T22:15:34.668385Z",
     "iopub.status.busy": "2020-09-14T22:15:34.667654Z",
     "iopub.status.idle": "2020-09-14T22:15:34.671597Z",
     "shell.execute_reply": "2020-09-14T22:15:34.670874Z"
    },
    "papermill": {
     "duration": 0.142531,
     "end_time": "2020-09-14T22:15:34.671712",
     "exception": false,
     "start_time": "2020-09-14T22:15:34.529181",
     "status": "completed"
    },
    "tags": []
   },
   "outputs": [
    {
     "data": {
      "text/html": [
       "<div>\n",
       "<style scoped>\n",
       "    .dataframe tbody tr th:only-of-type {\n",
       "        vertical-align: middle;\n",
       "    }\n",
       "\n",
       "    .dataframe tbody tr th {\n",
       "        vertical-align: top;\n",
       "    }\n",
       "\n",
       "    .dataframe thead th {\n",
       "        text-align: right;\n",
       "    }\n",
       "</style>\n",
       "<table border=\"1\" class=\"dataframe\">\n",
       "  <thead>\n",
       "    <tr style=\"text-align: right;\">\n",
       "      <th></th>\n",
       "      <th>datetime</th>\n",
       "      <th>count</th>\n",
       "    </tr>\n",
       "  </thead>\n",
       "  <tbody>\n",
       "    <tr>\n",
       "      <th>722</th>\n",
       "      <td>2011-03-31 02:00:00</td>\n",
       "      <td>NaN</td>\n",
       "    </tr>\n",
       "    <tr>\n",
       "      <th>723</th>\n",
       "      <td>2011-03-31 03:00:00</td>\n",
       "      <td>NaN</td>\n",
       "    </tr>\n",
       "    <tr>\n",
       "      <th>724</th>\n",
       "      <td>2011-03-31 04:00:00</td>\n",
       "      <td>NaN</td>\n",
       "    </tr>\n",
       "  </tbody>\n",
       "</table>\n",
       "</div>"
      ],
      "text/plain": [
       "                datetime  count\n",
       "722  2011-03-31 02:00:00    NaN\n",
       "723  2011-03-31 03:00:00    NaN\n",
       "724  2011-03-31 04:00:00    NaN"
      ]
     },
     "execution_count": 78,
     "metadata": {},
     "output_type": "execute_result"
    }
   ],
   "source": [
    "#Just to avoid any missing values\n",
    "submission[submission['count'].isna()]"
   ]
  },
  {
   "cell_type": "code",
   "execution_count": 79,
   "metadata": {
    "execution": {
     "iopub.execute_input": "2020-09-14T22:15:34.925129Z",
     "iopub.status.busy": "2020-09-14T22:15:34.924439Z",
     "iopub.status.idle": "2020-09-14T22:15:34.930388Z",
     "shell.execute_reply": "2020-09-14T22:15:34.931013Z"
    },
    "papermill": {
     "duration": 0.136773,
     "end_time": "2020-09-14T22:15:34.931154",
     "exception": false,
     "start_time": "2020-09-14T22:15:34.794381",
     "status": "completed"
    },
    "tags": []
   },
   "outputs": [
    {
     "data": {
      "text/plain": [
       "(datetime    2011-03-31 01:00:00\n",
       " count                         0\n",
       " Name: 721, dtype: object,\n",
       " datetime    2011-03-31 00:00:00\n",
       " count                         0\n",
       " Name: 720, dtype: object,\n",
       " datetime    2011-03-30 23:00:00\n",
       " count                         3\n",
       " Name: 719, dtype: object)"
      ]
     },
     "execution_count": 79,
     "metadata": {},
     "output_type": "execute_result"
    }
   ],
   "source": [
    "#let's see values around it to fill these\n",
    "#intuition knn\n",
    "submission.iloc[721],submission.iloc[720],submission.iloc[719]"
   ]
  },
  {
   "cell_type": "code",
   "execution_count": 80,
   "metadata": {
    "execution": {
     "iopub.execute_input": "2020-09-14T22:15:35.182706Z",
     "iopub.status.busy": "2020-09-14T22:15:35.182016Z",
     "iopub.status.idle": "2020-09-14T22:15:35.185021Z",
     "shell.execute_reply": "2020-09-14T22:15:35.184519Z"
    },
    "papermill": {
     "duration": 0.131173,
     "end_time": "2020-09-14T22:15:35.185169",
     "exception": false,
     "start_time": "2020-09-14T22:15:35.053996",
     "status": "completed"
    },
    "tags": []
   },
   "outputs": [],
   "source": [
    "#By this and also by our initial analysis, afternoon is not a preferable time to ride bike\n",
    "submission.fillna(0, inplace=True)"
   ]
  },
  {
   "cell_type": "code",
   "execution_count": 81,
   "metadata": {
    "execution": {
     "iopub.execute_input": "2020-09-14T22:15:35.433703Z",
     "iopub.status.busy": "2020-09-14T22:15:35.433003Z",
     "iopub.status.idle": "2020-09-14T22:15:35.442102Z",
     "shell.execute_reply": "2020-09-14T22:15:35.441594Z"
    },
    "papermill": {
     "duration": 0.134238,
     "end_time": "2020-09-14T22:15:35.442214",
     "exception": false,
     "start_time": "2020-09-14T22:15:35.307976",
     "status": "completed"
    },
    "tags": []
   },
   "outputs": [
    {
     "data": {
      "text/plain": [
       "(datetime    2011-03-31 05:00:00\n",
       " count                         0\n",
       " Name: 725, dtype: object,\n",
       " datetime    2011-03-31 06:00:00\n",
       " count                        10\n",
       " Name: 726, dtype: object,\n",
       " datetime    2011-03-31 07:00:00\n",
       " count                        41\n",
       " Name: 727, dtype: object)"
      ]
     },
     "execution_count": 81,
     "metadata": {},
     "output_type": "execute_result"
    }
   ],
   "source": [
    "submission.iloc[725],submission.iloc[726],submission.iloc[727]"
   ]
  },
  {
   "cell_type": "code",
   "execution_count": 82,
   "metadata": {
    "execution": {
     "iopub.execute_input": "2020-09-14T22:15:35.698852Z",
     "iopub.status.busy": "2020-09-14T22:15:35.697957Z",
     "iopub.status.idle": "2020-09-14T22:15:36.204659Z",
     "shell.execute_reply": "2020-09-14T22:15:36.203843Z"
    },
    "papermill": {
     "duration": 0.635106,
     "end_time": "2020-09-14T22:15:36.204787",
     "exception": false,
     "start_time": "2020-09-14T22:15:35.569681",
     "status": "completed"
    },
    "tags": []
   },
   "outputs": [],
   "source": [
    "submission.to_csv('bike_predictions_rounded.csv', index=False)\n",
    "submission.to_csv('bike_predictions_random_forest.csv', index=False)"
   ]
  },
  {
   "cell_type": "markdown",
   "metadata": {
    "papermill": {
     "duration": 0.123136,
     "end_time": "2020-09-14T22:15:36.451318",
     "exception": false,
     "start_time": "2020-09-14T22:15:36.328182",
     "status": "completed"
    },
    "tags": []
   },
   "source": [
    "P.S., it was my 1st ever ML project! So thank you for staying till here!<br>\n",
    "P.P.S, if you too found the journey fun, please upvote! Cheers!!"
   ]
  },
  {
   "cell_type": "code",
   "execution_count": null,
   "metadata": {
    "papermill": {
     "duration": 0.122492,
     "end_time": "2020-09-14T22:15:36.697227",
     "exception": false,
     "start_time": "2020-09-14T22:15:36.574735",
     "status": "completed"
    },
    "tags": []
   },
   "outputs": [],
   "source": []
  },
  {
   "cell_type": "code",
   "execution_count": null,
   "metadata": {
    "papermill": {
     "duration": 0.122878,
     "end_time": "2020-09-14T22:15:36.944961",
     "exception": false,
     "start_time": "2020-09-14T22:15:36.822083",
     "status": "completed"
    },
    "tags": []
   },
   "outputs": [],
   "source": []
  },
  {
   "cell_type": "code",
   "execution_count": null,
   "metadata": {
    "papermill": {
     "duration": 0.124265,
     "end_time": "2020-09-14T22:15:37.192419",
     "exception": false,
     "start_time": "2020-09-14T22:15:37.068154",
     "status": "completed"
    },
    "tags": []
   },
   "outputs": [],
   "source": []
  }
 ],
 "metadata": {
  "kernelspec": {
   "display_name": "Python 3",
   "language": "python",
   "name": "python3"
  },
  "language_info": {
   "codemirror_mode": {
    "name": "ipython",
    "version": 3
   },
   "file_extension": ".py",
   "mimetype": "text/x-python",
   "name": "python",
   "nbconvert_exporter": "python",
   "pygments_lexer": "ipython3",
   "version": "3.7.6"
  },
  "papermill": {
   "duration": 77.347369,
   "end_time": "2020-09-14T22:15:37.425363",
   "environment_variables": {},
   "exception": null,
   "input_path": "__notebook__.ipynb",
   "output_path": "__notebook__.ipynb",
   "parameters": {},
   "start_time": "2020-09-14T22:14:20.077994",
   "version": "2.1.0"
  }
 },
 "nbformat": 4,
 "nbformat_minor": 4
}
